{
 "cells": [
  {
   "cell_type": "markdown",
   "metadata": {},
   "source": [
    "# Problem :-\n",
    "### You are given a dataset that records the house prices of 9,761 houses in King County, Washington, US. The house prices are recorded along with some other attributes like - area of the house, number of bedrooms, number of bathrooms, etc. You are required to design a model to predict the house price.\n",
    "\n",
    "### We are trying to build the model which can predict the price of house based on the attributes given. This will help the real estate agents, buyer and seller of the house to know the price of the house of their interest just by giving the attributes. This model will also help user to analyze that which are the attributes or features which are having a significant role in deciding the price of a house. User can vary the attributes and can see how the house price is changing."
   ]
  },
  {
   "cell_type": "code",
   "execution_count": 27,
   "metadata": {},
   "outputs": [],
   "source": [
    "# importing all the important libraries\n",
    "import numpy as np\n",
    "import pandas as pd\n",
    "import matplotlib.pyplot as plt\n",
    "import seaborn as sns\n",
    "from sklearn.linear_model import LinearRegression    # for linear regression model\n",
    "from sklearn.model_selection import cross_val_score  # for cross-validation\n",
    "from sklearn.tree import DecisionTreeRegressor       # for decision tree regressor problem"
   ]
  },
  {
   "cell_type": "code",
   "execution_count": 3,
   "metadata": {},
   "outputs": [],
   "source": [
    "# reading the datasets\n",
    "train_data = pd.read_csv(\"kc_house_train_data.csv\")\n",
    "test_data = pd.read_csv(\"kc_house_test_data.csv\")"
   ]
  },
  {
   "cell_type": "code",
   "execution_count": 101,
   "metadata": {
    "scrolled": true
   },
   "outputs": [
    {
     "data": {
      "text/html": [
       "<div>\n",
       "<style scoped>\n",
       "    .dataframe tbody tr th:only-of-type {\n",
       "        vertical-align: middle;\n",
       "    }\n",
       "\n",
       "    .dataframe tbody tr th {\n",
       "        vertical-align: top;\n",
       "    }\n",
       "\n",
       "    .dataframe thead th {\n",
       "        text-align: right;\n",
       "    }\n",
       "</style>\n",
       "<table border=\"1\" class=\"dataframe\">\n",
       "  <thead>\n",
       "    <tr style=\"text-align: right;\">\n",
       "      <th></th>\n",
       "      <th>id</th>\n",
       "      <th>date</th>\n",
       "      <th>price</th>\n",
       "      <th>bedrooms</th>\n",
       "      <th>bathrooms</th>\n",
       "      <th>sqft_living</th>\n",
       "      <th>sqft_lot</th>\n",
       "      <th>floors</th>\n",
       "      <th>waterfront</th>\n",
       "      <th>view</th>\n",
       "      <th>...</th>\n",
       "      <th>zipcode</th>\n",
       "      <th>lat</th>\n",
       "      <th>long</th>\n",
       "      <th>sqft_living15</th>\n",
       "      <th>sqft_lot15</th>\n",
       "      <th>logged sqft_living</th>\n",
       "      <th>logged price</th>\n",
       "      <th>year of selling</th>\n",
       "      <th>month of selling</th>\n",
       "      <th>age</th>\n",
       "    </tr>\n",
       "  </thead>\n",
       "  <tbody>\n",
       "    <tr>\n",
       "      <th>0</th>\n",
       "      <td>2487200875</td>\n",
       "      <td>20141209T000000</td>\n",
       "      <td>604000.0</td>\n",
       "      <td>4</td>\n",
       "      <td>3.00</td>\n",
       "      <td>1960</td>\n",
       "      <td>5000</td>\n",
       "      <td>1.0</td>\n",
       "      <td>0</td>\n",
       "      <td>0</td>\n",
       "      <td>...</td>\n",
       "      <td>98136</td>\n",
       "      <td>47.5208</td>\n",
       "      <td>-122.393</td>\n",
       "      <td>1360</td>\n",
       "      <td>5000</td>\n",
       "      <td>7.580700</td>\n",
       "      <td>13.311329</td>\n",
       "      <td>2014</td>\n",
       "      <td>12</td>\n",
       "      <td>49</td>\n",
       "    </tr>\n",
       "    <tr>\n",
       "      <th>1</th>\n",
       "      <td>7237550310</td>\n",
       "      <td>20140512T000000</td>\n",
       "      <td>1225000.0</td>\n",
       "      <td>4</td>\n",
       "      <td>4.50</td>\n",
       "      <td>5420</td>\n",
       "      <td>101930</td>\n",
       "      <td>1.0</td>\n",
       "      <td>0</td>\n",
       "      <td>0</td>\n",
       "      <td>...</td>\n",
       "      <td>98053</td>\n",
       "      <td>47.6561</td>\n",
       "      <td>-122.005</td>\n",
       "      <td>4760</td>\n",
       "      <td>101930</td>\n",
       "      <td>8.597851</td>\n",
       "      <td>14.018451</td>\n",
       "      <td>2014</td>\n",
       "      <td>5</td>\n",
       "      <td>13</td>\n",
       "    </tr>\n",
       "    <tr>\n",
       "      <th>2</th>\n",
       "      <td>9212900260</td>\n",
       "      <td>20140527T000000</td>\n",
       "      <td>468000.0</td>\n",
       "      <td>2</td>\n",
       "      <td>1.00</td>\n",
       "      <td>1160</td>\n",
       "      <td>6000</td>\n",
       "      <td>1.0</td>\n",
       "      <td>0</td>\n",
       "      <td>0</td>\n",
       "      <td>...</td>\n",
       "      <td>98115</td>\n",
       "      <td>47.6900</td>\n",
       "      <td>-122.292</td>\n",
       "      <td>1330</td>\n",
       "      <td>6000</td>\n",
       "      <td>7.056175</td>\n",
       "      <td>13.056224</td>\n",
       "      <td>2014</td>\n",
       "      <td>5</td>\n",
       "      <td>72</td>\n",
       "    </tr>\n",
       "    <tr>\n",
       "      <th>3</th>\n",
       "      <td>114101516</td>\n",
       "      <td>20140528T000000</td>\n",
       "      <td>310000.0</td>\n",
       "      <td>3</td>\n",
       "      <td>1.00</td>\n",
       "      <td>1430</td>\n",
       "      <td>19901</td>\n",
       "      <td>1.5</td>\n",
       "      <td>0</td>\n",
       "      <td>0</td>\n",
       "      <td>...</td>\n",
       "      <td>98028</td>\n",
       "      <td>47.7558</td>\n",
       "      <td>-122.229</td>\n",
       "      <td>1780</td>\n",
       "      <td>12697</td>\n",
       "      <td>7.265430</td>\n",
       "      <td>12.644328</td>\n",
       "      <td>2014</td>\n",
       "      <td>5</td>\n",
       "      <td>87</td>\n",
       "    </tr>\n",
       "    <tr>\n",
       "      <th>4</th>\n",
       "      <td>6054650070</td>\n",
       "      <td>20141007T000000</td>\n",
       "      <td>400000.0</td>\n",
       "      <td>3</td>\n",
       "      <td>1.75</td>\n",
       "      <td>1370</td>\n",
       "      <td>9680</td>\n",
       "      <td>1.0</td>\n",
       "      <td>0</td>\n",
       "      <td>0</td>\n",
       "      <td>...</td>\n",
       "      <td>98074</td>\n",
       "      <td>47.6127</td>\n",
       "      <td>-122.045</td>\n",
       "      <td>1370</td>\n",
       "      <td>10208</td>\n",
       "      <td>7.222566</td>\n",
       "      <td>12.899220</td>\n",
       "      <td>2014</td>\n",
       "      <td>10</td>\n",
       "      <td>37</td>\n",
       "    </tr>\n",
       "    <tr>\n",
       "      <th>...</th>\n",
       "      <td>...</td>\n",
       "      <td>...</td>\n",
       "      <td>...</td>\n",
       "      <td>...</td>\n",
       "      <td>...</td>\n",
       "      <td>...</td>\n",
       "      <td>...</td>\n",
       "      <td>...</td>\n",
       "      <td>...</td>\n",
       "      <td>...</td>\n",
       "      <td>...</td>\n",
       "      <td>...</td>\n",
       "      <td>...</td>\n",
       "      <td>...</td>\n",
       "      <td>...</td>\n",
       "      <td>...</td>\n",
       "      <td>...</td>\n",
       "      <td>...</td>\n",
       "      <td>...</td>\n",
       "      <td>...</td>\n",
       "      <td>...</td>\n",
       "    </tr>\n",
       "    <tr>\n",
       "      <th>9756</th>\n",
       "      <td>9834201367</td>\n",
       "      <td>20150126T000000</td>\n",
       "      <td>429000.0</td>\n",
       "      <td>3</td>\n",
       "      <td>2.00</td>\n",
       "      <td>1490</td>\n",
       "      <td>1126</td>\n",
       "      <td>3.0</td>\n",
       "      <td>0</td>\n",
       "      <td>0</td>\n",
       "      <td>...</td>\n",
       "      <td>98144</td>\n",
       "      <td>47.5699</td>\n",
       "      <td>-122.288</td>\n",
       "      <td>1400</td>\n",
       "      <td>1230</td>\n",
       "      <td>7.306531</td>\n",
       "      <td>12.969212</td>\n",
       "      <td>2015</td>\n",
       "      <td>1</td>\n",
       "      <td>1</td>\n",
       "    </tr>\n",
       "    <tr>\n",
       "      <th>9757</th>\n",
       "      <td>3448900210</td>\n",
       "      <td>20141014T000000</td>\n",
       "      <td>610685.0</td>\n",
       "      <td>4</td>\n",
       "      <td>2.50</td>\n",
       "      <td>2520</td>\n",
       "      <td>6023</td>\n",
       "      <td>2.0</td>\n",
       "      <td>0</td>\n",
       "      <td>0</td>\n",
       "      <td>...</td>\n",
       "      <td>98056</td>\n",
       "      <td>47.5137</td>\n",
       "      <td>-122.167</td>\n",
       "      <td>2520</td>\n",
       "      <td>6023</td>\n",
       "      <td>7.832014</td>\n",
       "      <td>13.322337</td>\n",
       "      <td>2014</td>\n",
       "      <td>10</td>\n",
       "      <td>0</td>\n",
       "    </tr>\n",
       "    <tr>\n",
       "      <th>9758</th>\n",
       "      <td>7936000429</td>\n",
       "      <td>20150326T000000</td>\n",
       "      <td>1007500.0</td>\n",
       "      <td>4</td>\n",
       "      <td>3.50</td>\n",
       "      <td>3510</td>\n",
       "      <td>7200</td>\n",
       "      <td>2.0</td>\n",
       "      <td>0</td>\n",
       "      <td>0</td>\n",
       "      <td>...</td>\n",
       "      <td>98136</td>\n",
       "      <td>47.5537</td>\n",
       "      <td>-122.398</td>\n",
       "      <td>2050</td>\n",
       "      <td>6200</td>\n",
       "      <td>8.163371</td>\n",
       "      <td>13.822983</td>\n",
       "      <td>2015</td>\n",
       "      <td>3</td>\n",
       "      <td>6</td>\n",
       "    </tr>\n",
       "    <tr>\n",
       "      <th>9759</th>\n",
       "      <td>1523300141</td>\n",
       "      <td>20140623T000000</td>\n",
       "      <td>402101.0</td>\n",
       "      <td>2</td>\n",
       "      <td>0.75</td>\n",
       "      <td>1020</td>\n",
       "      <td>1350</td>\n",
       "      <td>2.0</td>\n",
       "      <td>0</td>\n",
       "      <td>0</td>\n",
       "      <td>...</td>\n",
       "      <td>98144</td>\n",
       "      <td>47.5944</td>\n",
       "      <td>-122.299</td>\n",
       "      <td>1020</td>\n",
       "      <td>2007</td>\n",
       "      <td>6.927558</td>\n",
       "      <td>12.904459</td>\n",
       "      <td>2014</td>\n",
       "      <td>6</td>\n",
       "      <td>5</td>\n",
       "    </tr>\n",
       "    <tr>\n",
       "      <th>9760</th>\n",
       "      <td>1523300157</td>\n",
       "      <td>20141015T000000</td>\n",
       "      <td>325000.0</td>\n",
       "      <td>2</td>\n",
       "      <td>0.75</td>\n",
       "      <td>1020</td>\n",
       "      <td>1076</td>\n",
       "      <td>2.0</td>\n",
       "      <td>0</td>\n",
       "      <td>0</td>\n",
       "      <td>...</td>\n",
       "      <td>98144</td>\n",
       "      <td>47.5941</td>\n",
       "      <td>-122.299</td>\n",
       "      <td>1020</td>\n",
       "      <td>1357</td>\n",
       "      <td>6.927558</td>\n",
       "      <td>12.691580</td>\n",
       "      <td>2014</td>\n",
       "      <td>10</td>\n",
       "      <td>6</td>\n",
       "    </tr>\n",
       "  </tbody>\n",
       "</table>\n",
       "<p>9761 rows × 26 columns</p>\n",
       "</div>"
      ],
      "text/plain": [
       "              id             date      price  bedrooms  bathrooms  \\\n",
       "0     2487200875  20141209T000000   604000.0         4       3.00   \n",
       "1     7237550310  20140512T000000  1225000.0         4       4.50   \n",
       "2     9212900260  20140527T000000   468000.0         2       1.00   \n",
       "3      114101516  20140528T000000   310000.0         3       1.00   \n",
       "4     6054650070  20141007T000000   400000.0         3       1.75   \n",
       "...          ...              ...        ...       ...        ...   \n",
       "9756  9834201367  20150126T000000   429000.0         3       2.00   \n",
       "9757  3448900210  20141014T000000   610685.0         4       2.50   \n",
       "9758  7936000429  20150326T000000  1007500.0         4       3.50   \n",
       "9759  1523300141  20140623T000000   402101.0         2       0.75   \n",
       "9760  1523300157  20141015T000000   325000.0         2       0.75   \n",
       "\n",
       "      sqft_living  sqft_lot  floors  waterfront  view  ...  zipcode      lat  \\\n",
       "0            1960      5000     1.0           0     0  ...    98136  47.5208   \n",
       "1            5420    101930     1.0           0     0  ...    98053  47.6561   \n",
       "2            1160      6000     1.0           0     0  ...    98115  47.6900   \n",
       "3            1430     19901     1.5           0     0  ...    98028  47.7558   \n",
       "4            1370      9680     1.0           0     0  ...    98074  47.6127   \n",
       "...           ...       ...     ...         ...   ...  ...      ...      ...   \n",
       "9756         1490      1126     3.0           0     0  ...    98144  47.5699   \n",
       "9757         2520      6023     2.0           0     0  ...    98056  47.5137   \n",
       "9758         3510      7200     2.0           0     0  ...    98136  47.5537   \n",
       "9759         1020      1350     2.0           0     0  ...    98144  47.5944   \n",
       "9760         1020      1076     2.0           0     0  ...    98144  47.5941   \n",
       "\n",
       "         long  sqft_living15  sqft_lot15  logged sqft_living  logged price  \\\n",
       "0    -122.393           1360        5000            7.580700     13.311329   \n",
       "1    -122.005           4760      101930            8.597851     14.018451   \n",
       "2    -122.292           1330        6000            7.056175     13.056224   \n",
       "3    -122.229           1780       12697            7.265430     12.644328   \n",
       "4    -122.045           1370       10208            7.222566     12.899220   \n",
       "...       ...            ...         ...                 ...           ...   \n",
       "9756 -122.288           1400        1230            7.306531     12.969212   \n",
       "9757 -122.167           2520        6023            7.832014     13.322337   \n",
       "9758 -122.398           2050        6200            8.163371     13.822983   \n",
       "9759 -122.299           1020        2007            6.927558     12.904459   \n",
       "9760 -122.299           1020        1357            6.927558     12.691580   \n",
       "\n",
       "      year of selling  month of selling  age  \n",
       "0                2014                12   49  \n",
       "1                2014                 5   13  \n",
       "2                2014                 5   72  \n",
       "3                2014                 5   87  \n",
       "4                2014                10   37  \n",
       "...               ...               ...  ...  \n",
       "9756             2015                 1    1  \n",
       "9757             2014                10    0  \n",
       "9758             2015                 3    6  \n",
       "9759             2014                 6    5  \n",
       "9760             2014                10    6  \n",
       "\n",
       "[9761 rows x 26 columns]"
      ]
     },
     "execution_count": 101,
     "metadata": {},
     "output_type": "execute_result"
    }
   ],
   "source": [
    "train_data"
   ]
  },
  {
   "cell_type": "code",
   "execution_count": 58,
   "metadata": {},
   "outputs": [
    {
     "data": {
      "text/plain": [
       "Index(['id', 'date', 'price', 'bedrooms', 'bathrooms', 'sqft_living',\n",
       "       'sqft_lot', 'floors', 'waterfront', 'view', 'condition', 'grade',\n",
       "       'sqft_above', 'sqft_basement', 'yr_built', 'yr_renovated', 'zipcode',\n",
       "       'lat', 'long', 'sqft_living15', 'sqft_lot15', 'logged sqft_living',\n",
       "       'logged price', 'year of selling', 'month of selling', 'age'],\n",
       "      dtype='object')"
      ]
     },
     "execution_count": 58,
     "metadata": {},
     "output_type": "execute_result"
    }
   ],
   "source": [
    "train_data.columns"
   ]
  },
  {
   "cell_type": "markdown",
   "metadata": {},
   "source": [
    "# Hypothesis :-"
   ]
  },
  {
   "cell_type": "markdown",
   "metadata": {},
   "source": [
    "### After reading the dataset and understanding all the variables, it seems like the target variable (price) is dependent on (sqft_living, bedrooms, floors, condition, grade, year_renovated). This will be our initial hypothesis."
   ]
  },
  {
   "cell_type": "markdown",
   "metadata": {},
   "source": [
    "# Exploratory Data Analysis :-"
   ]
  },
  {
   "cell_type": "markdown",
   "metadata": {},
   "source": [
    "### After formulating our initial hypothesis, we will do EDA on the dataset to check whether our initial hypothesis is correct or not. For EDA, we will first check the types of variables (numerical or categorical), then we will look if there are missing values present in the training or test dataset. If there are missing values present, we have to impute them. Then, in training dataset, we will analyze the variables by creating graphs and correlation matrix. We will check the dependency of our target variable on all the independent variables. This will give us an idea that the hypothesis we formulated was correct or not."
   ]
  },
  {
   "cell_type": "markdown",
   "metadata": {},
   "source": [
    "## => Checking datatypes of variables :-"
   ]
  },
  {
   "cell_type": "code",
   "execution_count": 4,
   "metadata": {},
   "outputs": [
    {
     "data": {
      "text/plain": [
       "id                 int64\n",
       "date              object\n",
       "price            float64\n",
       "bedrooms           int64\n",
       "bathrooms        float64\n",
       "sqft_living        int64\n",
       "sqft_lot           int64\n",
       "floors           float64\n",
       "waterfront         int64\n",
       "view               int64\n",
       "condition          int64\n",
       "grade              int64\n",
       "sqft_above         int64\n",
       "sqft_basement      int64\n",
       "yr_built           int64\n",
       "yr_renovated       int64\n",
       "zipcode            int64\n",
       "lat              float64\n",
       "long             float64\n",
       "sqft_living15      int64\n",
       "sqft_lot15         int64\n",
       "dtype: object"
      ]
     },
     "execution_count": 4,
     "metadata": {},
     "output_type": "execute_result"
    }
   ],
   "source": [
    "train_data.dtypes"
   ]
  },
  {
   "cell_type": "code",
   "execution_count": 5,
   "metadata": {},
   "outputs": [
    {
     "data": {
      "text/plain": [
       "id                 int64\n",
       "date              object\n",
       "price            float64\n",
       "bedrooms           int64\n",
       "bathrooms        float64\n",
       "sqft_living        int64\n",
       "sqft_lot           int64\n",
       "floors           float64\n",
       "waterfront         int64\n",
       "view               int64\n",
       "condition          int64\n",
       "grade              int64\n",
       "sqft_above         int64\n",
       "sqft_basement      int64\n",
       "yr_built           int64\n",
       "yr_renovated       int64\n",
       "zipcode            int64\n",
       "lat              float64\n",
       "long             float64\n",
       "sqft_living15      int64\n",
       "sqft_lot15         int64\n",
       "dtype: object"
      ]
     },
     "execution_count": 5,
     "metadata": {},
     "output_type": "execute_result"
    }
   ],
   "source": [
    "test_data.dtypes"
   ]
  },
  {
   "cell_type": "markdown",
   "metadata": {},
   "source": [
    "## => Checking Null Values :-"
   ]
  },
  {
   "cell_type": "code",
   "execution_count": 6,
   "metadata": {},
   "outputs": [
    {
     "data": {
      "text/plain": [
       "id               0\n",
       "date             0\n",
       "price            0\n",
       "bedrooms         0\n",
       "bathrooms        0\n",
       "sqft_living      0\n",
       "sqft_lot         0\n",
       "floors           0\n",
       "waterfront       0\n",
       "view             0\n",
       "condition        0\n",
       "grade            0\n",
       "sqft_above       0\n",
       "sqft_basement    0\n",
       "yr_built         0\n",
       "yr_renovated     0\n",
       "zipcode          0\n",
       "lat              0\n",
       "long             0\n",
       "sqft_living15    0\n",
       "sqft_lot15       0\n",
       "dtype: int64"
      ]
     },
     "execution_count": 6,
     "metadata": {},
     "output_type": "execute_result"
    }
   ],
   "source": [
    "train_data.isnull().sum()"
   ]
  },
  {
   "cell_type": "code",
   "execution_count": 7,
   "metadata": {},
   "outputs": [
    {
     "data": {
      "text/plain": [
       "id               0\n",
       "date             0\n",
       "price            0\n",
       "bedrooms         0\n",
       "bathrooms        0\n",
       "sqft_living      0\n",
       "sqft_lot         0\n",
       "floors           0\n",
       "waterfront       0\n",
       "view             0\n",
       "condition        0\n",
       "grade            0\n",
       "sqft_above       0\n",
       "sqft_basement    0\n",
       "yr_built         0\n",
       "yr_renovated     0\n",
       "zipcode          0\n",
       "lat              0\n",
       "long             0\n",
       "sqft_living15    0\n",
       "sqft_lot15       0\n",
       "dtype: int64"
      ]
     },
     "execution_count": 7,
     "metadata": {},
     "output_type": "execute_result"
    }
   ],
   "source": [
    "test_data.isnull().sum()"
   ]
  },
  {
   "cell_type": "code",
   "execution_count": 8,
   "metadata": {},
   "outputs": [
    {
     "data": {
      "text/html": [
       "<div>\n",
       "<style scoped>\n",
       "    .dataframe tbody tr th:only-of-type {\n",
       "        vertical-align: middle;\n",
       "    }\n",
       "\n",
       "    .dataframe tbody tr th {\n",
       "        vertical-align: top;\n",
       "    }\n",
       "\n",
       "    .dataframe thead th {\n",
       "        text-align: right;\n",
       "    }\n",
       "</style>\n",
       "<table border=\"1\" class=\"dataframe\">\n",
       "  <thead>\n",
       "    <tr style=\"text-align: right;\">\n",
       "      <th></th>\n",
       "      <th>id</th>\n",
       "      <th>price</th>\n",
       "      <th>bedrooms</th>\n",
       "      <th>bathrooms</th>\n",
       "      <th>sqft_living</th>\n",
       "      <th>sqft_lot</th>\n",
       "      <th>floors</th>\n",
       "      <th>waterfront</th>\n",
       "      <th>view</th>\n",
       "      <th>condition</th>\n",
       "      <th>grade</th>\n",
       "      <th>sqft_above</th>\n",
       "      <th>sqft_basement</th>\n",
       "      <th>yr_built</th>\n",
       "      <th>yr_renovated</th>\n",
       "      <th>zipcode</th>\n",
       "      <th>lat</th>\n",
       "      <th>long</th>\n",
       "      <th>sqft_living15</th>\n",
       "      <th>sqft_lot15</th>\n",
       "    </tr>\n",
       "  </thead>\n",
       "  <tbody>\n",
       "    <tr>\n",
       "      <th>count</th>\n",
       "      <td>2.161300e+04</td>\n",
       "      <td>2.161300e+04</td>\n",
       "      <td>21613.000000</td>\n",
       "      <td>21613.000000</td>\n",
       "      <td>21613.000000</td>\n",
       "      <td>2.161300e+04</td>\n",
       "      <td>21613.000000</td>\n",
       "      <td>21613.000000</td>\n",
       "      <td>21613.000000</td>\n",
       "      <td>21613.000000</td>\n",
       "      <td>21613.000000</td>\n",
       "      <td>21613.000000</td>\n",
       "      <td>21613.000000</td>\n",
       "      <td>21613.000000</td>\n",
       "      <td>21613.000000</td>\n",
       "      <td>21613.000000</td>\n",
       "      <td>21613.000000</td>\n",
       "      <td>21613.000000</td>\n",
       "      <td>21613.000000</td>\n",
       "      <td>21613.000000</td>\n",
       "    </tr>\n",
       "    <tr>\n",
       "      <th>mean</th>\n",
       "      <td>4.580302e+09</td>\n",
       "      <td>5.400881e+05</td>\n",
       "      <td>3.370842</td>\n",
       "      <td>2.114757</td>\n",
       "      <td>2079.899736</td>\n",
       "      <td>1.510697e+04</td>\n",
       "      <td>1.494309</td>\n",
       "      <td>0.007542</td>\n",
       "      <td>0.234303</td>\n",
       "      <td>3.409430</td>\n",
       "      <td>7.656873</td>\n",
       "      <td>1788.390691</td>\n",
       "      <td>291.509045</td>\n",
       "      <td>1971.005136</td>\n",
       "      <td>84.402258</td>\n",
       "      <td>98077.939805</td>\n",
       "      <td>47.560053</td>\n",
       "      <td>-122.213896</td>\n",
       "      <td>1986.552492</td>\n",
       "      <td>12768.455652</td>\n",
       "    </tr>\n",
       "    <tr>\n",
       "      <th>std</th>\n",
       "      <td>2.876566e+09</td>\n",
       "      <td>3.671272e+05</td>\n",
       "      <td>0.930062</td>\n",
       "      <td>0.770163</td>\n",
       "      <td>918.440897</td>\n",
       "      <td>4.142051e+04</td>\n",
       "      <td>0.539989</td>\n",
       "      <td>0.086517</td>\n",
       "      <td>0.766318</td>\n",
       "      <td>0.650743</td>\n",
       "      <td>1.175459</td>\n",
       "      <td>828.090978</td>\n",
       "      <td>442.575043</td>\n",
       "      <td>29.373411</td>\n",
       "      <td>401.679240</td>\n",
       "      <td>53.505026</td>\n",
       "      <td>0.138564</td>\n",
       "      <td>0.140828</td>\n",
       "      <td>685.391304</td>\n",
       "      <td>27304.179631</td>\n",
       "    </tr>\n",
       "    <tr>\n",
       "      <th>min</th>\n",
       "      <td>1.000102e+06</td>\n",
       "      <td>7.500000e+04</td>\n",
       "      <td>0.000000</td>\n",
       "      <td>0.000000</td>\n",
       "      <td>290.000000</td>\n",
       "      <td>5.200000e+02</td>\n",
       "      <td>1.000000</td>\n",
       "      <td>0.000000</td>\n",
       "      <td>0.000000</td>\n",
       "      <td>1.000000</td>\n",
       "      <td>1.000000</td>\n",
       "      <td>290.000000</td>\n",
       "      <td>0.000000</td>\n",
       "      <td>1900.000000</td>\n",
       "      <td>0.000000</td>\n",
       "      <td>98001.000000</td>\n",
       "      <td>47.155900</td>\n",
       "      <td>-122.519000</td>\n",
       "      <td>399.000000</td>\n",
       "      <td>651.000000</td>\n",
       "    </tr>\n",
       "    <tr>\n",
       "      <th>25%</th>\n",
       "      <td>2.123049e+09</td>\n",
       "      <td>3.219500e+05</td>\n",
       "      <td>3.000000</td>\n",
       "      <td>1.750000</td>\n",
       "      <td>1427.000000</td>\n",
       "      <td>5.040000e+03</td>\n",
       "      <td>1.000000</td>\n",
       "      <td>0.000000</td>\n",
       "      <td>0.000000</td>\n",
       "      <td>3.000000</td>\n",
       "      <td>7.000000</td>\n",
       "      <td>1190.000000</td>\n",
       "      <td>0.000000</td>\n",
       "      <td>1951.000000</td>\n",
       "      <td>0.000000</td>\n",
       "      <td>98033.000000</td>\n",
       "      <td>47.471000</td>\n",
       "      <td>-122.328000</td>\n",
       "      <td>1490.000000</td>\n",
       "      <td>5100.000000</td>\n",
       "    </tr>\n",
       "    <tr>\n",
       "      <th>50%</th>\n",
       "      <td>3.904930e+09</td>\n",
       "      <td>4.500000e+05</td>\n",
       "      <td>3.000000</td>\n",
       "      <td>2.250000</td>\n",
       "      <td>1910.000000</td>\n",
       "      <td>7.618000e+03</td>\n",
       "      <td>1.500000</td>\n",
       "      <td>0.000000</td>\n",
       "      <td>0.000000</td>\n",
       "      <td>3.000000</td>\n",
       "      <td>7.000000</td>\n",
       "      <td>1560.000000</td>\n",
       "      <td>0.000000</td>\n",
       "      <td>1975.000000</td>\n",
       "      <td>0.000000</td>\n",
       "      <td>98065.000000</td>\n",
       "      <td>47.571800</td>\n",
       "      <td>-122.230000</td>\n",
       "      <td>1840.000000</td>\n",
       "      <td>7620.000000</td>\n",
       "    </tr>\n",
       "    <tr>\n",
       "      <th>75%</th>\n",
       "      <td>7.308900e+09</td>\n",
       "      <td>6.450000e+05</td>\n",
       "      <td>4.000000</td>\n",
       "      <td>2.500000</td>\n",
       "      <td>2550.000000</td>\n",
       "      <td>1.068800e+04</td>\n",
       "      <td>2.000000</td>\n",
       "      <td>0.000000</td>\n",
       "      <td>0.000000</td>\n",
       "      <td>4.000000</td>\n",
       "      <td>8.000000</td>\n",
       "      <td>2210.000000</td>\n",
       "      <td>560.000000</td>\n",
       "      <td>1997.000000</td>\n",
       "      <td>0.000000</td>\n",
       "      <td>98118.000000</td>\n",
       "      <td>47.678000</td>\n",
       "      <td>-122.125000</td>\n",
       "      <td>2360.000000</td>\n",
       "      <td>10083.000000</td>\n",
       "    </tr>\n",
       "    <tr>\n",
       "      <th>max</th>\n",
       "      <td>9.900000e+09</td>\n",
       "      <td>7.700000e+06</td>\n",
       "      <td>33.000000</td>\n",
       "      <td>8.000000</td>\n",
       "      <td>13540.000000</td>\n",
       "      <td>1.651359e+06</td>\n",
       "      <td>3.500000</td>\n",
       "      <td>1.000000</td>\n",
       "      <td>4.000000</td>\n",
       "      <td>5.000000</td>\n",
       "      <td>13.000000</td>\n",
       "      <td>9410.000000</td>\n",
       "      <td>4820.000000</td>\n",
       "      <td>2015.000000</td>\n",
       "      <td>2015.000000</td>\n",
       "      <td>98199.000000</td>\n",
       "      <td>47.777600</td>\n",
       "      <td>-121.315000</td>\n",
       "      <td>6210.000000</td>\n",
       "      <td>871200.000000</td>\n",
       "    </tr>\n",
       "  </tbody>\n",
       "</table>\n",
       "</div>"
      ],
      "text/plain": [
       "                 id         price      bedrooms     bathrooms   sqft_living  \\\n",
       "count  2.161300e+04  2.161300e+04  21613.000000  21613.000000  21613.000000   \n",
       "mean   4.580302e+09  5.400881e+05      3.370842      2.114757   2079.899736   \n",
       "std    2.876566e+09  3.671272e+05      0.930062      0.770163    918.440897   \n",
       "min    1.000102e+06  7.500000e+04      0.000000      0.000000    290.000000   \n",
       "25%    2.123049e+09  3.219500e+05      3.000000      1.750000   1427.000000   \n",
       "50%    3.904930e+09  4.500000e+05      3.000000      2.250000   1910.000000   \n",
       "75%    7.308900e+09  6.450000e+05      4.000000      2.500000   2550.000000   \n",
       "max    9.900000e+09  7.700000e+06     33.000000      8.000000  13540.000000   \n",
       "\n",
       "           sqft_lot        floors    waterfront          view     condition  \\\n",
       "count  2.161300e+04  21613.000000  21613.000000  21613.000000  21613.000000   \n",
       "mean   1.510697e+04      1.494309      0.007542      0.234303      3.409430   \n",
       "std    4.142051e+04      0.539989      0.086517      0.766318      0.650743   \n",
       "min    5.200000e+02      1.000000      0.000000      0.000000      1.000000   \n",
       "25%    5.040000e+03      1.000000      0.000000      0.000000      3.000000   \n",
       "50%    7.618000e+03      1.500000      0.000000      0.000000      3.000000   \n",
       "75%    1.068800e+04      2.000000      0.000000      0.000000      4.000000   \n",
       "max    1.651359e+06      3.500000      1.000000      4.000000      5.000000   \n",
       "\n",
       "              grade    sqft_above  sqft_basement      yr_built  yr_renovated  \\\n",
       "count  21613.000000  21613.000000   21613.000000  21613.000000  21613.000000   \n",
       "mean       7.656873   1788.390691     291.509045   1971.005136     84.402258   \n",
       "std        1.175459    828.090978     442.575043     29.373411    401.679240   \n",
       "min        1.000000    290.000000       0.000000   1900.000000      0.000000   \n",
       "25%        7.000000   1190.000000       0.000000   1951.000000      0.000000   \n",
       "50%        7.000000   1560.000000       0.000000   1975.000000      0.000000   \n",
       "75%        8.000000   2210.000000     560.000000   1997.000000      0.000000   \n",
       "max       13.000000   9410.000000    4820.000000   2015.000000   2015.000000   \n",
       "\n",
       "            zipcode           lat          long  sqft_living15     sqft_lot15  \n",
       "count  21613.000000  21613.000000  21613.000000   21613.000000   21613.000000  \n",
       "mean   98077.939805     47.560053   -122.213896    1986.552492   12768.455652  \n",
       "std       53.505026      0.138564      0.140828     685.391304   27304.179631  \n",
       "min    98001.000000     47.155900   -122.519000     399.000000     651.000000  \n",
       "25%    98033.000000     47.471000   -122.328000    1490.000000    5100.000000  \n",
       "50%    98065.000000     47.571800   -122.230000    1840.000000    7620.000000  \n",
       "75%    98118.000000     47.678000   -122.125000    2360.000000   10083.000000  \n",
       "max    98199.000000     47.777600   -121.315000    6210.000000  871200.000000  "
      ]
     },
     "execution_count": 8,
     "metadata": {},
     "output_type": "execute_result"
    }
   ],
   "source": [
    "train_data.describe()"
   ]
  },
  {
   "cell_type": "markdown",
   "metadata": {},
   "source": [
    "## => Creating plots for our hypothesis variables :-"
   ]
  },
  {
   "cell_type": "code",
   "execution_count": 9,
   "metadata": {},
   "outputs": [
    {
     "data": {
      "image/png": "[encoded data removed]",
      "text/plain": [
       "<Figure size 432x288 with 1 Axes>"
      ]
     },
     "metadata": {
      "needs_background": "light"
     },
     "output_type": "display_data"
    }
   ],
   "source": [
    "# hypothesis_variables = ['sqft_living', 'bedrooms', 'floors', 'condition', 'grade', 'yr_renovated']\n",
    "# target_variable = ['price']\n",
    "\n",
    "plt.scatter(train_data['sqft_living'], train_data['price'])\n",
    "plt.xlabel('sqft_living', fontsize=14)\n",
    "plt.ylabel(\"Price\", fontsize=14)\n",
    "plt.show()"
   ]
  },
  {
   "cell_type": "code",
   "execution_count": 59,
   "metadata": {},
   "outputs": [
    {
     "data": {
      "image/png": "[encoded data removed]",
      "text/plain": [
       "<Figure size 432x288 with 1 Axes>"
      ]
     },
     "metadata": {
      "needs_background": "light"
     },
     "output_type": "display_data"
    }
   ],
   "source": [
    "plt.bar(train_data['floors'], train_data['price'])\n",
    "plt.xlabel('Floors', fontsize=14)\n",
    "plt.ylabel(\"Price\", fontsize=14)\n",
    "plt.show()"
   ]
  },
  {
   "cell_type": "code",
   "execution_count": 60,
   "metadata": {},
   "outputs": [
    {
     "data": {
      "image/png": "[encoded data removed]",
      "text/plain": [
       "<Figure size 432x288 with 1 Axes>"
      ]
     },
     "metadata": {
      "needs_background": "light"
     },
     "output_type": "display_data"
    }
   ],
   "source": [
    "plt.bar(train_data['bedrooms'], train_data['price'])\n",
    "plt.xlabel('bedrooms', fontsize=14)\n",
    "plt.ylabel(\"Price\", fontsize=14)\n",
    "plt.show()"
   ]
  },
  {
   "cell_type": "code",
   "execution_count": 61,
   "metadata": {},
   "outputs": [
    {
     "data": {
      "image/png": "[encoded data removed]",
      "text/plain": [
       "<Figure size 432x288 with 1 Axes>"
      ]
     },
     "metadata": {
      "needs_background": "light"
     },
     "output_type": "display_data"
    }
   ],
   "source": [
    "plt.bar(train_data['condition'], train_data['price'])\n",
    "plt.xlabel('Condition', fontsize=14)\n",
    "plt.ylabel(\"Price\", fontsize=14)\n",
    "plt.show()"
   ]
  },
  {
   "cell_type": "code",
   "execution_count": 62,
   "metadata": {},
   "outputs": [
    {
     "data": {
      "image/png": "[encoded data removed]",
      "text/plain": [
       "<Figure size 432x288 with 1 Axes>"
      ]
     },
     "metadata": {
      "needs_background": "light"
     },
     "output_type": "display_data"
    }
   ],
   "source": [
    "plt.bar(train_data['grade'], train_data['price'])\n",
    "plt.xlabel('Grade', fontsize=14)\n",
    "plt.ylabel(\"Price\", fontsize=14)\n",
    "plt.show()"
   ]
  },
  {
   "cell_type": "code",
   "execution_count": 14,
   "metadata": {},
   "outputs": [
    {
     "data": {
      "image/png": "[encoded data removed]",
      "text/plain": [
       "<Figure size 432x288 with 1 Axes>"
      ]
     },
     "metadata": {
      "needs_background": "light"
     },
     "output_type": "display_data"
    }
   ],
   "source": [
    "plt.bar(train_data['yr_renovated'], train_data['price'])\n",
    "plt.xlabel('Year Renovated', fontsize=14)\n",
    "plt.ylabel(\"Price\", fontsize=14)\n",
    "plt.show()"
   ]
  },
  {
   "cell_type": "code",
   "execution_count": null,
   "metadata": {},
   "outputs": [],
   "source": []
  },
  {
   "cell_type": "markdown",
   "metadata": {},
   "source": [
    "## => Creating Correlation Matrix :-\n",
    "### It will give us the better picture to understand how each variable is related to the target variable."
   ]
  },
  {
   "cell_type": "code",
   "execution_count": 15,
   "metadata": {},
   "outputs": [
    {
     "data": {
      "text/html": [
       "<style  type=\"text/css\" >\n",
       "#T_0020f_row0_col0,#T_0020f_row1_col1,#T_0020f_row2_col2,#T_0020f_row3_col3,#T_0020f_row4_col4,#T_0020f_row5_col5,#T_0020f_row6_col6,#T_0020f_row7_col7,#T_0020f_row8_col8,#T_0020f_row9_col9,#T_0020f_row10_col10,#T_0020f_row11_col11,#T_0020f_row12_col12,#T_0020f_row13_col13,#T_0020f_row14_col14,#T_0020f_row15_col15,#T_0020f_row16_col16,#T_0020f_row17_col17,#T_0020f_row18_col18,#T_0020f_row19_col19{\n",
       "            background-color:  #006837;\n",
       "            color:  #f1f1f1;\n",
       "        }#T_0020f_row0_col1,#T_0020f_row2_col7,#T_0020f_row9_col10{\n",
       "            background-color:  #b50f26;\n",
       "            color:  #f1f1f1;\n",
       "        }#T_0020f_row0_col2,#T_0020f_row5_col1,#T_0020f_row7_col5,#T_0020f_row8_col16,#T_0020f_row9_col14,#T_0020f_row14_col19{\n",
       "            background-color:  #e14430;\n",
       "            color:  #f1f1f1;\n",
       "        }#T_0020f_row0_col3,#T_0020f_row3_col9,#T_0020f_row4_col16,#T_0020f_row6_col16{\n",
       "            background-color:  #ec5c3b;\n",
       "            color:  #000000;\n",
       "        }#T_0020f_row0_col4,#T_0020f_row2_col19,#T_0020f_row7_col19,#T_0020f_row11_col12,#T_0020f_row14_col16{\n",
       "            background-color:  #e65036;\n",
       "            color:  #000000;\n",
       "        }#T_0020f_row0_col5,#T_0020f_row6_col12,#T_0020f_row9_col6,#T_0020f_row9_col13,#T_0020f_row13_col9,#T_0020f_row13_col14,#T_0020f_row13_col16,#T_0020f_row15_col1,#T_0020f_row15_col2,#T_0020f_row15_col3,#T_0020f_row15_col4,#T_0020f_row15_col5,#T_0020f_row15_col10,#T_0020f_row15_col11,#T_0020f_row15_col17,#T_0020f_row15_col18,#T_0020f_row15_col19,#T_0020f_row17_col7,#T_0020f_row17_col8,#T_0020f_row17_col15,#T_0020f_row19_col0{\n",
       "            background-color:  #a50026;\n",
       "            color:  #f1f1f1;\n",
       "        }#T_0020f_row0_col6,#T_0020f_row3_col14,#T_0020f_row7_col10,#T_0020f_row8_col13,#T_0020f_row12_col16,#T_0020f_row14_col11{\n",
       "            background-color:  #f67c4a;\n",
       "            color:  #000000;\n",
       "        }#T_0020f_row0_col7{\n",
       "            background-color:  #b71126;\n",
       "            color:  #f1f1f1;\n",
       "        }#T_0020f_row0_col8,#T_0020f_row9_col1{\n",
       "            background-color:  #ce2827;\n",
       "            color:  #f1f1f1;\n",
       "        }#T_0020f_row0_col9,#T_0020f_row3_col8,#T_0020f_row7_col13,#T_0020f_row16_col6{\n",
       "            background-color:  #f88c51;\n",
       "            color:  #000000;\n",
       "        }#T_0020f_row0_col10,#T_0020f_row13_col5,#T_0020f_row15_col6{\n",
       "            background-color:  #e95538;\n",
       "            color:  #000000;\n",
       "        }#T_0020f_row0_col11,#T_0020f_row1_col5,#T_0020f_row2_col14,#T_0020f_row10_col14,#T_0020f_row18_col9{\n",
       "            background-color:  #f36b42;\n",
       "            color:  #000000;\n",
       "        }#T_0020f_row0_col12,#T_0020f_row3_col5,#T_0020f_row8_col19,#T_0020f_row11_col15{\n",
       "            background-color:  #f26841;\n",
       "            color:  #000000;\n",
       "        }#T_0020f_row0_col13,#T_0020f_row5_col15,#T_0020f_row7_col9,#T_0020f_row11_col5{\n",
       "            background-color:  #fba05b;\n",
       "            color:  #000000;\n",
       "        }#T_0020f_row0_col14,#T_0020f_row14_col1,#T_0020f_row14_col8,#T_0020f_row14_col10,#T_0020f_row18_col16{\n",
       "            background-color:  #eb5a3a;\n",
       "            color:  #000000;\n",
       "        }#T_0020f_row0_col15,#T_0020f_row5_col11,#T_0020f_row17_col3{\n",
       "            background-color:  #fec877;\n",
       "            color:  #000000;\n",
       "        }#T_0020f_row0_col16,#T_0020f_row3_col0,#T_0020f_row7_col2,#T_0020f_row9_col19,#T_0020f_row11_col16,#T_0020f_row17_col14,#T_0020f_row19_col1{\n",
       "            background-color:  #de402e;\n",
       "            color:  #f1f1f1;\n",
       "        }#T_0020f_row0_col17,#T_0020f_row1_col17,#T_0020f_row12_col18{\n",
       "            background-color:  #fed27f;\n",
       "            color:  #000000;\n",
       "        }#T_0020f_row0_col18,#T_0020f_row10_col5,#T_0020f_row14_col18{\n",
       "            background-color:  #f57748;\n",
       "            color:  #000000;\n",
       "        }#T_0020f_row0_col19,#T_0020f_row5_col0{\n",
       "            background-color:  #a70226;\n",
       "            color:  #f1f1f1;\n",
       "        }#T_0020f_row1_col0,#T_0020f_row9_col5,#T_0020f_row14_col0{\n",
       "            background-color:  #d93429;\n",
       "            color:  #f1f1f1;\n",
       "        }#T_0020f_row1_col2,#T_0020f_row14_col15{\n",
       "            background-color:  #fee08b;\n",
       "            color:  #000000;\n",
       "        }#T_0020f_row1_col3,#T_0020f_row18_col1{\n",
       "            background-color:  #d5ed88;\n",
       "            color:  #000000;\n",
       "        }#T_0020f_row1_col4,#T_0020f_row3_col11,#T_0020f_row19_col5{\n",
       "            background-color:  #84ca66;\n",
       "            color:  #000000;\n",
       "        }#T_0020f_row1_col6{\n",
       "            background-color:  #fee491;\n",
       "            color:  #000000;\n",
       "        }#T_0020f_row1_col7,#T_0020f_row6_col1{\n",
       "            background-color:  #fcaa5f;\n",
       "            color:  #000000;\n",
       "        }#T_0020f_row1_col8,#T_0020f_row2_col12,#T_0020f_row6_col17{\n",
       "            background-color:  #feec9f;\n",
       "            color:  #000000;\n",
       "        }#T_0020f_row1_col9,#T_0020f_row9_col17{\n",
       "            background-color:  #fca85e;\n",
       "            color:  #000000;\n",
       "        }#T_0020f_row1_col10,#T_0020f_row10_col3{\n",
       "            background-color:  #98d368;\n",
       "            color:  #000000;\n",
       "        }#T_0020f_row1_col11,#T_0020f_row10_col1{\n",
       "            background-color:  #addc6f;\n",
       "            color:  #000000;\n",
       "        }#T_0020f_row1_col12,#T_0020f_row2_col10{\n",
       "            background-color:  #fff2aa;\n",
       "            color:  #000000;\n",
       "        }#T_0020f_row1_col13,#T_0020f_row10_col8,#T_0020f_row17_col6{\n",
       "            background-color:  #fdb163;\n",
       "            color:  #000000;\n",
       "        }#T_0020f_row1_col14,#T_0020f_row2_col9,#T_0020f_row4_col19,#T_0020f_row7_col18,#T_0020f_row16_col12,#T_0020f_row18_col19{\n",
       "            background-color:  #fca55d;\n",
       "            color:  #000000;\n",
       "        }#T_0020f_row1_col15,#T_0020f_row8_col3{\n",
       "            background-color:  #fdbb6c;\n",
       "            color:  #000000;\n",
       "        }#T_0020f_row1_col16,#T_0020f_row12_col2{\n",
       "            background-color:  #fede89;\n",
       "            color:  #000000;\n",
       "        }#T_0020f_row1_col18{\n",
       "            background-color:  #b1de71;\n",
       "            color:  #000000;\n",
       "        }#T_0020f_row1_col19,#T_0020f_row8_col2,#T_0020f_row11_col14,#T_0020f_row19_col6{\n",
       "            background-color:  #f46d43;\n",
       "            color:  #000000;\n",
       "        }#T_0020f_row2_col0,#T_0020f_row2_col16,#T_0020f_row14_col5,#T_0020f_row16_col2,#T_0020f_row18_col7{\n",
       "            background-color:  #dd3d2d;\n",
       "            color:  #f1f1f1;\n",
       "        }#T_0020f_row2_col1,#T_0020f_row8_col11,#T_0020f_row16_col1{\n",
       "            background-color:  #fdc372;\n",
       "            color:  #000000;\n",
       "        }#T_0020f_row2_col3{\n",
       "            background-color:  #d9ef8b;\n",
       "            color:  #000000;\n",
       "        }#T_0020f_row2_col4{\n",
       "            background-color:  #c1e57b;\n",
       "            color:  #000000;\n",
       "        }#T_0020f_row2_col5,#T_0020f_row2_col8,#T_0020f_row9_col18{\n",
       "            background-color:  #e44c34;\n",
       "            color:  #000000;\n",
       "        }#T_0020f_row2_col6{\n",
       "            background-color:  #fdc574;\n",
       "            color:  #000000;\n",
       "        }#T_0020f_row2_col11,#T_0020f_row6_col3{\n",
       "            background-color:  #dff293;\n",
       "            color:  #000000;\n",
       "        }#T_0020f_row2_col13{\n",
       "            background-color:  #fed481;\n",
       "            color:  #000000;\n",
       "        }#T_0020f_row2_col15,#T_0020f_row7_col11,#T_0020f_row7_col12,#T_0020f_row19_col9{\n",
       "            background-color:  #fa9656;\n",
       "            color:  #000000;\n",
       "        }#T_0020f_row2_col17,#T_0020f_row10_col2{\n",
       "            background-color:  #feeda1;\n",
       "            color:  #000000;\n",
       "        }#T_0020f_row2_col18{\n",
       "            background-color:  #f5fbb2;\n",
       "            color:  #000000;\n",
       "        }#T_0020f_row3_col1{\n",
       "            background-color:  #ecf7a6;\n",
       "            color:  #000000;\n",
       "        }#T_0020f_row3_col2,#T_0020f_row11_col17{\n",
       "            background-color:  #e0f295;\n",
       "            color:  #000000;\n",
       "        }#T_0020f_row3_col4,#T_0020f_row4_col3,#T_0020f_row11_col10{\n",
       "            background-color:  #69be63;\n",
       "            color:  #000000;\n",
       "        }#T_0020f_row3_col6{\n",
       "            background-color:  #d7ee8a;\n",
       "            color:  #000000;\n",
       "        }#T_0020f_row3_col7,#T_0020f_row6_col8,#T_0020f_row9_col0,#T_0020f_row14_col13{\n",
       "            background-color:  #d62f27;\n",
       "            color:  #f1f1f1;\n",
       "        }#T_0020f_row3_col10,#T_0020f_row4_col1{\n",
       "            background-color:  #9bd469;\n",
       "            color:  #000000;\n",
       "        }#T_0020f_row3_col12{\n",
       "            background-color:  #fee797;\n",
       "            color:  #000000;\n",
       "        }#T_0020f_row3_col13{\n",
       "            background-color:  #c5e67e;\n",
       "            color:  #000000;\n",
       "        }#T_0020f_row3_col15,#T_0020f_row4_col14,#T_0020f_row7_col6,#T_0020f_row10_col16,#T_0020f_row11_col8{\n",
       "            background-color:  #f67f4b;\n",
       "            color:  #000000;\n",
       "        }#T_0020f_row3_col16,#T_0020f_row11_col9,#T_0020f_row14_col2,#T_0020f_row15_col8{\n",
       "            background-color:  #e54e35;\n",
       "            color:  #000000;\n",
       "        }#T_0020f_row3_col17{\n",
       "            background-color:  #feffbe;\n",
       "            color:  #000000;\n",
       "        }#T_0020f_row3_col18{\n",
       "            background-color:  #b9e176;\n",
       "            color:  #000000;\n",
       "        }#T_0020f_row3_col19,#T_0020f_row5_col6,#T_0020f_row16_col11{\n",
       "            background-color:  #f47044;\n",
       "            color:  #000000;\n",
       "        }#T_0020f_row4_col0,#T_0020f_row6_col5,#T_0020f_row11_col0,#T_0020f_row11_col7{\n",
       "            background-color:  #da362a;\n",
       "            color:  #f1f1f1;\n",
       "        }#T_0020f_row4_col2{\n",
       "            background-color:  #c9e881;\n",
       "            color:  #000000;\n",
       "        }#T_0020f_row4_col5,#T_0020f_row8_col14,#T_0020f_row12_col17,#T_0020f_row13_col2,#T_0020f_row15_col9,#T_0020f_row19_col15{\n",
       "            background-color:  #fa9857;\n",
       "            color:  #000000;\n",
       "        }#T_0020f_row4_col6{\n",
       "            background-color:  #fffcba;\n",
       "            color:  #000000;\n",
       "        }#T_0020f_row4_col7,#T_0020f_row6_col0,#T_0020f_row13_col15,#T_0020f_row17_col0,#T_0020f_row19_col8{\n",
       "            background-color:  #e24731;\n",
       "            color:  #f1f1f1;\n",
       "        }#T_0020f_row4_col8,#T_0020f_row9_col12{\n",
       "            background-color:  #fdc171;\n",
       "            color:  #000000;\n",
       "        }#T_0020f_row4_col9,#T_0020f_row7_col3,#T_0020f_row14_col9{\n",
       "            background-color:  #f67a49;\n",
       "            color:  #000000;\n",
       "        }#T_0020f_row4_col10,#T_0020f_row18_col4{\n",
       "            background-color:  #66bd63;\n",
       "            color:  #000000;\n",
       "        }#T_0020f_row4_col11{\n",
       "            background-color:  #199750;\n",
       "            color:  #000000;\n",
       "        }#T_0020f_row4_col12,#T_0020f_row11_col2,#T_0020f_row13_col11{\n",
       "            background-color:  #eef8a8;\n",
       "            color:  #000000;\n",
       "        }#T_0020f_row4_col13{\n",
       "            background-color:  #fffebe;\n",
       "            color:  #000000;\n",
       "        }#T_0020f_row4_col15,#T_0020f_row8_col6,#T_0020f_row10_col19{\n",
       "            background-color:  #f7814c;\n",
       "            color:  #000000;\n",
       "        }#T_0020f_row4_col17{\n",
       "            background-color:  #fafdb8;\n",
       "            color:  #000000;\n",
       "        }#T_0020f_row4_col18{\n",
       "            background-color:  #5db961;\n",
       "            color:  #000000;\n",
       "        }#T_0020f_row5_col2,#T_0020f_row9_col2,#T_0020f_row10_col9,#T_0020f_row16_col13,#T_0020f_row19_col2{\n",
       "            background-color:  #e75337;\n",
       "            color:  #000000;\n",
       "        }#T_0020f_row5_col3,#T_0020f_row10_col15,#T_0020f_row17_col2,#T_0020f_row18_col5{\n",
       "            background-color:  #f88950;\n",
       "            color:  #000000;\n",
       "        }#T_0020f_row5_col4,#T_0020f_row8_col17{\n",
       "            background-color:  #fdb365;\n",
       "            color:  #000000;\n",
       "        }#T_0020f_row5_col7{\n",
       "            background-color:  #c21c27;\n",
       "            color:  #f1f1f1;\n",
       "        }#T_0020f_row5_col8,#T_0020f_row12_col19,#T_0020f_row13_col0{\n",
       "            background-color:  #e34933;\n",
       "            color:  #f1f1f1;\n",
       "        }#T_0020f_row5_col9,#T_0020f_row7_col14{\n",
       "            background-color:  #f99355;\n",
       "            color:  #000000;\n",
       "        }#T_0020f_row5_col10,#T_0020f_row7_col4,#T_0020f_row16_col10{\n",
       "            background-color:  #f98e52;\n",
       "            color:  #000000;\n",
       "        }#T_0020f_row5_col12,#T_0020f_row16_col4,#T_0020f_row16_col14{\n",
       "            background-color:  #f57245;\n",
       "            color:  #000000;\n",
       "        }#T_0020f_row5_col13,#T_0020f_row7_col1{\n",
       "            background-color:  #fdaf62;\n",
       "            color:  #000000;\n",
       "        }#T_0020f_row5_col14,#T_0020f_row6_col14,#T_0020f_row13_col19,#T_0020f_row16_col3,#T_0020f_row19_col14{\n",
       "            background-color:  #f16640;\n",
       "            color:  #000000;\n",
       "        }#T_0020f_row5_col16,#T_0020f_row16_col19,#T_0020f_row19_col16{\n",
       "            background-color:  #be1827;\n",
       "            color:  #f1f1f1;\n",
       "        }#T_0020f_row5_col17,#T_0020f_row18_col13{\n",
       "            background-color:  #fdfebc;\n",
       "            color:  #000000;\n",
       "        }#T_0020f_row5_col18,#T_0020f_row12_col8{\n",
       "            background-color:  #fdbd6d;\n",
       "            color:  #000000;\n",
       "        }#T_0020f_row5_col19{\n",
       "            background-color:  #82c966;\n",
       "            color:  #000000;\n",
       "        }#T_0020f_row6_col2{\n",
       "            background-color:  #fba35c;\n",
       "            color:  #000000;\n",
       "        }#T_0020f_row6_col4{\n",
       "            background-color:  #fff3ac;\n",
       "            color:  #000000;\n",
       "        }#T_0020f_row6_col7,#T_0020f_row9_col3{\n",
       "            background-color:  #c41e27;\n",
       "            color:  #f1f1f1;\n",
       "        }#T_0020f_row6_col9,#T_0020f_row17_col1{\n",
       "            background-color:  #c82227;\n",
       "            color:  #f1f1f1;\n",
       "        }#T_0020f_row6_col10{\n",
       "            background-color:  #eff8aa;\n",
       "            color:  #000000;\n",
       "        }#T_0020f_row6_col11,#T_0020f_row6_col13,#T_0020f_row11_col6,#T_0020f_row13_col17{\n",
       "            background-color:  #cdea83;\n",
       "            color:  #000000;\n",
       "        }#T_0020f_row6_col15,#T_0020f_row17_col10{\n",
       "            background-color:  #fdb96a;\n",
       "            color:  #000000;\n",
       "        }#T_0020f_row6_col18,#T_0020f_row8_col18{\n",
       "            background-color:  #feeb9d;\n",
       "            color:  #000000;\n",
       "        }#T_0020f_row6_col19,#T_0020f_row7_col0,#T_0020f_row9_col4,#T_0020f_row10_col7,#T_0020f_row12_col0,#T_0020f_row12_col7,#T_0020f_row16_col0,#T_0020f_row18_col0{\n",
       "            background-color:  #dc3b2c;\n",
       "            color:  #f1f1f1;\n",
       "        }#T_0020f_row7_col8{\n",
       "            background-color:  #feefa3;\n",
       "            color:  #000000;\n",
       "        }#T_0020f_row7_col15{\n",
       "            background-color:  #fed683;\n",
       "            color:  #000000;\n",
       "        }#T_0020f_row7_col16,#T_0020f_row9_col8,#T_0020f_row9_col16,#T_0020f_row15_col0{\n",
       "            background-color:  #db382b;\n",
       "            color:  #f1f1f1;\n",
       "        }#T_0020f_row7_col17,#T_0020f_row10_col12,#T_0020f_row18_col8{\n",
       "            background-color:  #fdbf6f;\n",
       "            color:  #000000;\n",
       "        }#T_0020f_row8_col0,#T_0020f_row10_col0,#T_0020f_row12_col5,#T_0020f_row14_col7{\n",
       "            background-color:  #e0422f;\n",
       "            color:  #f1f1f1;\n",
       "        }#T_0020f_row8_col1,#T_0020f_row8_col7{\n",
       "            background-color:  #fee999;\n",
       "            color:  #000000;\n",
       "        }#T_0020f_row8_col4,#T_0020f_row12_col3{\n",
       "            background-color:  #fee18d;\n",
       "            color:  #000000;\n",
       "        }#T_0020f_row8_col5,#T_0020f_row18_col14,#T_0020f_row18_col15{\n",
       "            background-color:  #ee613e;\n",
       "            color:  #000000;\n",
       "        }#T_0020f_row8_col9,#T_0020f_row11_col19,#T_0020f_row12_col10{\n",
       "            background-color:  #fdad60;\n",
       "            color:  #000000;\n",
       "        }#T_0020f_row8_col10{\n",
       "            background-color:  #fed07e;\n",
       "            color:  #000000;\n",
       "        }#T_0020f_row8_col12{\n",
       "            background-color:  #fee695;\n",
       "            color:  #000000;\n",
       "        }#T_0020f_row8_col15{\n",
       "            background-color:  #fee593;\n",
       "            color:  #000000;\n",
       "        }#T_0020f_row9_col7{\n",
       "            background-color:  #c01a27;\n",
       "            color:  #f1f1f1;\n",
       "        }#T_0020f_row9_col11,#T_0020f_row16_col8,#T_0020f_row17_col12{\n",
       "            background-color:  #cc2627;\n",
       "            color:  #f1f1f1;\n",
       "        }#T_0020f_row9_col15,#T_0020f_row15_col16,#T_0020f_row19_col11,#T_0020f_row19_col18{\n",
       "            background-color:  #fecc7b;\n",
       "            color:  #000000;\n",
       "        }#T_0020f_row10_col4{\n",
       "            background-color:  #63bc62;\n",
       "            color:  #000000;\n",
       "        }#T_0020f_row10_col6{\n",
       "            background-color:  #e3f399;\n",
       "            color:  #000000;\n",
       "        }#T_0020f_row10_col11{\n",
       "            background-color:  #60ba62;\n",
       "            color:  #000000;\n",
       "        }#T_0020f_row10_col13,#T_0020f_row13_col6{\n",
       "            background-color:  #daf08d;\n",
       "            color:  #000000;\n",
       "        }#T_0020f_row10_col17{\n",
       "            background-color:  #fffbb8;\n",
       "            color:  #000000;\n",
       "        }#T_0020f_row10_col18{\n",
       "            background-color:  #75c465;\n",
       "            color:  #000000;\n",
       "        }#T_0020f_row11_col1{\n",
       "            background-color:  #cbe982;\n",
       "            color:  #000000;\n",
       "        }#T_0020f_row11_col3{\n",
       "            background-color:  #8ccd67;\n",
       "            color:  #000000;\n",
       "        }#T_0020f_row11_col4{\n",
       "            background-color:  #1b9950;\n",
       "            color:  #000000;\n",
       "        }#T_0020f_row11_col13,#T_0020f_row18_col17{\n",
       "            background-color:  #e2f397;\n",
       "            color:  #000000;\n",
       "        }#T_0020f_row11_col18{\n",
       "            background-color:  #6bbf64;\n",
       "            color:  #000000;\n",
       "        }#T_0020f_row12_col1,#T_0020f_row18_col12{\n",
       "            background-color:  #feca79;\n",
       "            color:  #000000;\n",
       "        }#T_0020f_row12_col4{\n",
       "            background-color:  #f4fab0;\n",
       "            color:  #000000;\n",
       "        }#T_0020f_row12_col6,#T_0020f_row13_col7{\n",
       "            background-color:  #ab0626;\n",
       "            color:  #f1f1f1;\n",
       "        }#T_0020f_row12_col9{\n",
       "            background-color:  #fedc88;\n",
       "            color:  #000000;\n",
       "        }#T_0020f_row12_col11,#T_0020f_row12_col13{\n",
       "            background-color:  #ea5739;\n",
       "            color:  #000000;\n",
       "        }#T_0020f_row12_col14,#T_0020f_row19_col3{\n",
       "            background-color:  #f8864f;\n",
       "            color:  #000000;\n",
       "        }#T_0020f_row12_col15{\n",
       "            background-color:  #fee28f;\n",
       "            color:  #000000;\n",
       "        }#T_0020f_row13_col1{\n",
       "            background-color:  #d83128;\n",
       "            color:  #f1f1f1;\n",
       "        }#T_0020f_row13_col3{\n",
       "            background-color:  #ddf191;\n",
       "            color:  #000000;\n",
       "        }#T_0020f_row13_col4,#T_0020f_row18_col6{\n",
       "            background-color:  #feea9b;\n",
       "            color:  #000000;\n",
       "        }#T_0020f_row13_col8{\n",
       "            background-color:  #af0926;\n",
       "            color:  #f1f1f1;\n",
       "        }#T_0020f_row13_col10,#T_0020f_row16_col15{\n",
       "            background-color:  #f2faae;\n",
       "            color:  #000000;\n",
       "        }#T_0020f_row13_col12{\n",
       "            background-color:  #d22b27;\n",
       "            color:  #f1f1f1;\n",
       "        }#T_0020f_row13_col18{\n",
       "            background-color:  #fff7b2;\n",
       "            color:  #000000;\n",
       "        }#T_0020f_row14_col3,#T_0020f_row14_col4,#T_0020f_row14_col6,#T_0020f_row19_col12{\n",
       "            background-color:  #f57547;\n",
       "            color:  #000000;\n",
       "        }#T_0020f_row14_col12,#T_0020f_row15_col12,#T_0020f_row16_col9,#T_0020f_row16_col18,#T_0020f_row19_col10{\n",
       "            background-color:  #f99153;\n",
       "            color:  #000000;\n",
       "        }#T_0020f_row14_col17,#T_0020f_row17_col5,#T_0020f_row19_col4,#T_0020f_row19_col13{\n",
       "            background-color:  #fdb768;\n",
       "            color:  #000000;\n",
       "        }#T_0020f_row15_col7,#T_0020f_row19_col7{\n",
       "            background-color:  #c62027;\n",
       "            color:  #f1f1f1;\n",
       "        }#T_0020f_row15_col13,#T_0020f_row17_col16{\n",
       "            background-color:  #a90426;\n",
       "            color:  #f1f1f1;\n",
       "        }#T_0020f_row15_col14{\n",
       "            background-color:  #f7844e;\n",
       "            color:  #000000;\n",
       "        }#T_0020f_row16_col5{\n",
       "            background-color:  #b91326;\n",
       "            color:  #f1f1f1;\n",
       "        }#T_0020f_row16_col7{\n",
       "            background-color:  #b10b26;\n",
       "            color:  #f1f1f1;\n",
       "        }#T_0020f_row16_col17{\n",
       "            background-color:  #fb9d59;\n",
       "            color:  #000000;\n",
       "        }#T_0020f_row17_col4{\n",
       "            background-color:  #fece7c;\n",
       "            color:  #000000;\n",
       "        }#T_0020f_row17_col9{\n",
       "            background-color:  #ef633f;\n",
       "            color:  #000000;\n",
       "        }#T_0020f_row17_col11,#T_0020f_row17_col18{\n",
       "            background-color:  #fff8b4;\n",
       "            color:  #000000;\n",
       "        }#T_0020f_row17_col13{\n",
       "            background-color:  #e6f59d;\n",
       "            color:  #000000;\n",
       "        }#T_0020f_row17_col19{\n",
       "            background-color:  #fdc776;\n",
       "            color:  #000000;\n",
       "        }#T_0020f_row18_col2{\n",
       "            background-color:  #fff6b0;\n",
       "            color:  #000000;\n",
       "        }#T_0020f_row18_col3{\n",
       "            background-color:  #c3e67d;\n",
       "            color:  #000000;\n",
       "        }#T_0020f_row18_col10{\n",
       "            background-color:  #7fc866;\n",
       "            color:  #000000;\n",
       "        }#T_0020f_row18_col11{\n",
       "            background-color:  #6ec064;\n",
       "            color:  #000000;\n",
       "        }#T_0020f_row19_col17{\n",
       "            background-color:  #f7fcb4;\n",
       "            color:  #000000;\n",
       "        }</style><table id=\"T_0020f_\" ><thead>    <tr>        <th class=\"blank level0\" ></th>        <th class=\"col_heading level0 col0\" >id</th>        <th class=\"col_heading level0 col1\" >price</th>        <th class=\"col_heading level0 col2\" >bedrooms</th>        <th class=\"col_heading level0 col3\" >bathrooms</th>        <th class=\"col_heading level0 col4\" >sqft_living</th>        <th class=\"col_heading level0 col5\" >sqft_lot</th>        <th class=\"col_heading level0 col6\" >floors</th>        <th class=\"col_heading level0 col7\" >waterfront</th>        <th class=\"col_heading level0 col8\" >view</th>        <th class=\"col_heading level0 col9\" >condition</th>        <th class=\"col_heading level0 col10\" >grade</th>        <th class=\"col_heading level0 col11\" >sqft_above</th>        <th class=\"col_heading level0 col12\" >sqft_basement</th>        <th class=\"col_heading level0 col13\" >yr_built</th>        <th class=\"col_heading level0 col14\" >yr_renovated</th>        <th class=\"col_heading level0 col15\" >zipcode</th>        <th class=\"col_heading level0 col16\" >lat</th>        <th class=\"col_heading level0 col17\" >long</th>        <th class=\"col_heading level0 col18\" >sqft_living15</th>        <th class=\"col_heading level0 col19\" >sqft_lot15</th>    </tr></thead><tbody>\n",
       "                <tr>\n",
       "                        <th id=\"T_0020f_level0_row0\" class=\"row_heading level0 row0\" >id</th>\n",
       "                        <td id=\"T_0020f_row0_col0\" class=\"data row0 col0\" >1.000000</td>\n",
       "                        <td id=\"T_0020f_row0_col1\" class=\"data row0 col1\" >-0.016762</td>\n",
       "                        <td id=\"T_0020f_row0_col2\" class=\"data row0 col2\" >0.001286</td>\n",
       "                        <td id=\"T_0020f_row0_col3\" class=\"data row0 col3\" >0.005160</td>\n",
       "                        <td id=\"T_0020f_row0_col4\" class=\"data row0 col4\" >-0.012258</td>\n",
       "                        <td id=\"T_0020f_row0_col5\" class=\"data row0 col5\" >-0.132109</td>\n",
       "                        <td id=\"T_0020f_row0_col6\" class=\"data row0 col6\" >0.018525</td>\n",
       "                        <td id=\"T_0020f_row0_col7\" class=\"data row0 col7\" >-0.002721</td>\n",
       "                        <td id=\"T_0020f_row0_col8\" class=\"data row0 col8\" >0.011592</td>\n",
       "                        <td id=\"T_0020f_row0_col9\" class=\"data row0 col9\" >-0.023783</td>\n",
       "                        <td id=\"T_0020f_row0_col10\" class=\"data row0 col10\" >0.008130</td>\n",
       "                        <td id=\"T_0020f_row0_col11\" class=\"data row0 col11\" >-0.010842</td>\n",
       "                        <td id=\"T_0020f_row0_col12\" class=\"data row0 col12\" >-0.005151</td>\n",
       "                        <td id=\"T_0020f_row0_col13\" class=\"data row0 col13\" >0.021380</td>\n",
       "                        <td id=\"T_0020f_row0_col14\" class=\"data row0 col14\" >-0.016907</td>\n",
       "                        <td id=\"T_0020f_row0_col15\" class=\"data row0 col15\" >-0.008224</td>\n",
       "                        <td id=\"T_0020f_row0_col16\" class=\"data row0 col16\" >-0.001891</td>\n",
       "                        <td id=\"T_0020f_row0_col17\" class=\"data row0 col17\" >0.020799</td>\n",
       "                        <td id=\"T_0020f_row0_col18\" class=\"data row0 col18\" >-0.002901</td>\n",
       "                        <td id=\"T_0020f_row0_col19\" class=\"data row0 col19\" >-0.138798</td>\n",
       "            </tr>\n",
       "            <tr>\n",
       "                        <th id=\"T_0020f_level0_row1\" class=\"row_heading level0 row1\" >price</th>\n",
       "                        <td id=\"T_0020f_row1_col0\" class=\"data row1 col0\" >-0.016762</td>\n",
       "                        <td id=\"T_0020f_row1_col1\" class=\"data row1 col1\" >1.000000</td>\n",
       "                        <td id=\"T_0020f_row1_col2\" class=\"data row1 col2\" >0.308350</td>\n",
       "                        <td id=\"T_0020f_row1_col3\" class=\"data row1 col3\" >0.525138</td>\n",
       "                        <td id=\"T_0020f_row1_col4\" class=\"data row1 col4\" >0.702035</td>\n",
       "                        <td id=\"T_0020f_row1_col5\" class=\"data row1 col5\" >0.089661</td>\n",
       "                        <td id=\"T_0020f_row1_col6\" class=\"data row1 col6\" >0.256794</td>\n",
       "                        <td id=\"T_0020f_row1_col7\" class=\"data row1 col7\" >0.266369</td>\n",
       "                        <td id=\"T_0020f_row1_col8\" class=\"data row1 col8\" >0.397293</td>\n",
       "                        <td id=\"T_0020f_row1_col9\" class=\"data row1 col9\" >0.036362</td>\n",
       "                        <td id=\"T_0020f_row1_col10\" class=\"data row1 col10\" >0.667434</td>\n",
       "                        <td id=\"T_0020f_row1_col11\" class=\"data row1 col11\" >0.605567</td>\n",
       "                        <td id=\"T_0020f_row1_col12\" class=\"data row1 col12\" >0.323816</td>\n",
       "                        <td id=\"T_0020f_row1_col13\" class=\"data row1 col13\" >0.054012</td>\n",
       "                        <td id=\"T_0020f_row1_col14\" class=\"data row1 col14\" >0.126434</td>\n",
       "                        <td id=\"T_0020f_row1_col15\" class=\"data row1 col15\" >-0.053203</td>\n",
       "                        <td id=\"T_0020f_row1_col16\" class=\"data row1 col16\" >0.307003</td>\n",
       "                        <td id=\"T_0020f_row1_col17\" class=\"data row1 col17\" >0.021626</td>\n",
       "                        <td id=\"T_0020f_row1_col18\" class=\"data row1 col18\" >0.585379</td>\n",
       "                        <td id=\"T_0020f_row1_col19\" class=\"data row1 col19\" >0.082447</td>\n",
       "            </tr>\n",
       "            <tr>\n",
       "                        <th id=\"T_0020f_level0_row2\" class=\"row_heading level0 row2\" >bedrooms</th>\n",
       "                        <td id=\"T_0020f_row2_col0\" class=\"data row2 col0\" >0.001286</td>\n",
       "                        <td id=\"T_0020f_row2_col1\" class=\"data row2 col1\" >0.308350</td>\n",
       "                        <td id=\"T_0020f_row2_col2\" class=\"data row2 col2\" >1.000000</td>\n",
       "                        <td id=\"T_0020f_row2_col3\" class=\"data row2 col3\" >0.515884</td>\n",
       "                        <td id=\"T_0020f_row2_col4\" class=\"data row2 col4\" >0.576671</td>\n",
       "                        <td id=\"T_0020f_row2_col5\" class=\"data row2 col5\" >0.031703</td>\n",
       "                        <td id=\"T_0020f_row2_col6\" class=\"data row2 col6\" >0.175429</td>\n",
       "                        <td id=\"T_0020f_row2_col7\" class=\"data row2 col7\" >-0.006582</td>\n",
       "                        <td id=\"T_0020f_row2_col8\" class=\"data row2 col8\" >0.079532</td>\n",
       "                        <td id=\"T_0020f_row2_col9\" class=\"data row2 col9\" >0.028472</td>\n",
       "                        <td id=\"T_0020f_row2_col10\" class=\"data row2 col10\" >0.356967</td>\n",
       "                        <td id=\"T_0020f_row2_col11\" class=\"data row2 col11\" >0.477600</td>\n",
       "                        <td id=\"T_0020f_row2_col12\" class=\"data row2 col12\" >0.303093</td>\n",
       "                        <td id=\"T_0020f_row2_col13\" class=\"data row2 col13\" >0.154178</td>\n",
       "                        <td id=\"T_0020f_row2_col14\" class=\"data row2 col14\" >0.018841</td>\n",
       "                        <td id=\"T_0020f_row2_col15\" class=\"data row2 col15\" >-0.152668</td>\n",
       "                        <td id=\"T_0020f_row2_col16\" class=\"data row2 col16\" >-0.008931</td>\n",
       "                        <td id=\"T_0020f_row2_col17\" class=\"data row2 col17\" >0.129473</td>\n",
       "                        <td id=\"T_0020f_row2_col18\" class=\"data row2 col18\" >0.391638</td>\n",
       "                        <td id=\"T_0020f_row2_col19\" class=\"data row2 col19\" >0.029244</td>\n",
       "            </tr>\n",
       "            <tr>\n",
       "                        <th id=\"T_0020f_level0_row3\" class=\"row_heading level0 row3\" >bathrooms</th>\n",
       "                        <td id=\"T_0020f_row3_col0\" class=\"data row3 col0\" >0.005160</td>\n",
       "                        <td id=\"T_0020f_row3_col1\" class=\"data row3 col1\" >0.525138</td>\n",
       "                        <td id=\"T_0020f_row3_col2\" class=\"data row3 col2\" >0.515884</td>\n",
       "                        <td id=\"T_0020f_row3_col3\" class=\"data row3 col3\" >1.000000</td>\n",
       "                        <td id=\"T_0020f_row3_col4\" class=\"data row3 col4\" >0.754665</td>\n",
       "                        <td id=\"T_0020f_row3_col5\" class=\"data row3 col5\" >0.087740</td>\n",
       "                        <td id=\"T_0020f_row3_col6\" class=\"data row3 col6\" >0.500653</td>\n",
       "                        <td id=\"T_0020f_row3_col7\" class=\"data row3 col7\" >0.063744</td>\n",
       "                        <td id=\"T_0020f_row3_col8\" class=\"data row3 col8\" >0.187737</td>\n",
       "                        <td id=\"T_0020f_row3_col9\" class=\"data row3 col9\" >-0.124982</td>\n",
       "                        <td id=\"T_0020f_row3_col10\" class=\"data row3 col10\" >0.664983</td>\n",
       "                        <td id=\"T_0020f_row3_col11\" class=\"data row3 col11\" >0.685342</td>\n",
       "                        <td id=\"T_0020f_row3_col12\" class=\"data row3 col12\" >0.283770</td>\n",
       "                        <td id=\"T_0020f_row3_col13\" class=\"data row3 col13\" >0.506019</td>\n",
       "                        <td id=\"T_0020f_row3_col14\" class=\"data row3 col14\" >0.050739</td>\n",
       "                        <td id=\"T_0020f_row3_col15\" class=\"data row3 col15\" >-0.203866</td>\n",
       "                        <td id=\"T_0020f_row3_col16\" class=\"data row3 col16\" >0.024573</td>\n",
       "                        <td id=\"T_0020f_row3_col17\" class=\"data row3 col17\" >0.223042</td>\n",
       "                        <td id=\"T_0020f_row3_col18\" class=\"data row3 col18\" >0.568634</td>\n",
       "                        <td id=\"T_0020f_row3_col19\" class=\"data row3 col19\" >0.087175</td>\n",
       "            </tr>\n",
       "            <tr>\n",
       "                        <th id=\"T_0020f_level0_row4\" class=\"row_heading level0 row4\" >sqft_living</th>\n",
       "                        <td id=\"T_0020f_row4_col0\" class=\"data row4 col0\" >-0.012258</td>\n",
       "                        <td id=\"T_0020f_row4_col1\" class=\"data row4 col1\" >0.702035</td>\n",
       "                        <td id=\"T_0020f_row4_col2\" class=\"data row4 col2\" >0.576671</td>\n",
       "                        <td id=\"T_0020f_row4_col3\" class=\"data row4 col3\" >0.754665</td>\n",
       "                        <td id=\"T_0020f_row4_col4\" class=\"data row4 col4\" >1.000000</td>\n",
       "                        <td id=\"T_0020f_row4_col5\" class=\"data row4 col5\" >0.172826</td>\n",
       "                        <td id=\"T_0020f_row4_col6\" class=\"data row4 col6\" >0.353949</td>\n",
       "                        <td id=\"T_0020f_row4_col7\" class=\"data row4 col7\" >0.103818</td>\n",
       "                        <td id=\"T_0020f_row4_col8\" class=\"data row4 col8\" >0.284611</td>\n",
       "                        <td id=\"T_0020f_row4_col9\" class=\"data row4 col9\" >-0.058753</td>\n",
       "                        <td id=\"T_0020f_row4_col10\" class=\"data row4 col10\" >0.762704</td>\n",
       "                        <td id=\"T_0020f_row4_col11\" class=\"data row4 col11\" >0.876597</td>\n",
       "                        <td id=\"T_0020f_row4_col12\" class=\"data row4 col12\" >0.435043</td>\n",
       "                        <td id=\"T_0020f_row4_col13\" class=\"data row4 col13\" >0.318049</td>\n",
       "                        <td id=\"T_0020f_row4_col14\" class=\"data row4 col14\" >0.055363</td>\n",
       "                        <td id=\"T_0020f_row4_col15\" class=\"data row4 col15\" >-0.199430</td>\n",
       "                        <td id=\"T_0020f_row4_col16\" class=\"data row4 col16\" >0.052529</td>\n",
       "                        <td id=\"T_0020f_row4_col17\" class=\"data row4 col17\" >0.240223</td>\n",
       "                        <td id=\"T_0020f_row4_col18\" class=\"data row4 col18\" >0.756420</td>\n",
       "                        <td id=\"T_0020f_row4_col19\" class=\"data row4 col19\" >0.183286</td>\n",
       "            </tr>\n",
       "            <tr>\n",
       "                        <th id=\"T_0020f_level0_row5\" class=\"row_heading level0 row5\" >sqft_lot</th>\n",
       "                        <td id=\"T_0020f_row5_col0\" class=\"data row5 col0\" >-0.132109</td>\n",
       "                        <td id=\"T_0020f_row5_col1\" class=\"data row5 col1\" >0.089661</td>\n",
       "                        <td id=\"T_0020f_row5_col2\" class=\"data row5 col2\" >0.031703</td>\n",
       "                        <td id=\"T_0020f_row5_col3\" class=\"data row5 col3\" >0.087740</td>\n",
       "                        <td id=\"T_0020f_row5_col4\" class=\"data row5 col4\" >0.172826</td>\n",
       "                        <td id=\"T_0020f_row5_col5\" class=\"data row5 col5\" >1.000000</td>\n",
       "                        <td id=\"T_0020f_row5_col6\" class=\"data row5 col6\" >-0.005201</td>\n",
       "                        <td id=\"T_0020f_row5_col7\" class=\"data row5 col7\" >0.021604</td>\n",
       "                        <td id=\"T_0020f_row5_col8\" class=\"data row5 col8\" >0.074710</td>\n",
       "                        <td id=\"T_0020f_row5_col9\" class=\"data row5 col9\" >-0.008958</td>\n",
       "                        <td id=\"T_0020f_row5_col10\" class=\"data row5 col10\" >0.113621</td>\n",
       "                        <td id=\"T_0020f_row5_col11\" class=\"data row5 col11\" >0.183512</td>\n",
       "                        <td id=\"T_0020f_row5_col12\" class=\"data row5 col12\" >0.015286</td>\n",
       "                        <td id=\"T_0020f_row5_col13\" class=\"data row5 col13\" >0.053080</td>\n",
       "                        <td id=\"T_0020f_row5_col14\" class=\"data row5 col14\" >0.007644</td>\n",
       "                        <td id=\"T_0020f_row5_col15\" class=\"data row5 col15\" >-0.129574</td>\n",
       "                        <td id=\"T_0020f_row5_col16\" class=\"data row5 col16\" >-0.085683</td>\n",
       "                        <td id=\"T_0020f_row5_col17\" class=\"data row5 col17\" >0.229521</td>\n",
       "                        <td id=\"T_0020f_row5_col18\" class=\"data row5 col18\" >0.144608</td>\n",
       "                        <td id=\"T_0020f_row5_col19\" class=\"data row5 col19\" >0.718557</td>\n",
       "            </tr>\n",
       "            <tr>\n",
       "                        <th id=\"T_0020f_level0_row6\" class=\"row_heading level0 row6\" >floors</th>\n",
       "                        <td id=\"T_0020f_row6_col0\" class=\"data row6 col0\" >0.018525</td>\n",
       "                        <td id=\"T_0020f_row6_col1\" class=\"data row6 col1\" >0.256794</td>\n",
       "                        <td id=\"T_0020f_row6_col2\" class=\"data row6 col2\" >0.175429</td>\n",
       "                        <td id=\"T_0020f_row6_col3\" class=\"data row6 col3\" >0.500653</td>\n",
       "                        <td id=\"T_0020f_row6_col4\" class=\"data row6 col4\" >0.353949</td>\n",
       "                        <td id=\"T_0020f_row6_col5\" class=\"data row6 col5\" >-0.005201</td>\n",
       "                        <td id=\"T_0020f_row6_col6\" class=\"data row6 col6\" >1.000000</td>\n",
       "                        <td id=\"T_0020f_row6_col7\" class=\"data row6 col7\" >0.023698</td>\n",
       "                        <td id=\"T_0020f_row6_col8\" class=\"data row6 col8\" >0.029444</td>\n",
       "                        <td id=\"T_0020f_row6_col9\" class=\"data row6 col9\" >-0.263768</td>\n",
       "                        <td id=\"T_0020f_row6_col10\" class=\"data row6 col10\" >0.458183</td>\n",
       "                        <td id=\"T_0020f_row6_col11\" class=\"data row6 col11\" >0.523885</td>\n",
       "                        <td id=\"T_0020f_row6_col12\" class=\"data row6 col12\" >-0.245705</td>\n",
       "                        <td id=\"T_0020f_row6_col13\" class=\"data row6 col13\" >0.489319</td>\n",
       "                        <td id=\"T_0020f_row6_col14\" class=\"data row6 col14\" >0.006338</td>\n",
       "                        <td id=\"T_0020f_row6_col15\" class=\"data row6 col15\" >-0.059121</td>\n",
       "                        <td id=\"T_0020f_row6_col16\" class=\"data row6 col16\" >0.049614</td>\n",
       "                        <td id=\"T_0020f_row6_col17\" class=\"data row6 col17\" >0.125419</td>\n",
       "                        <td id=\"T_0020f_row6_col18\" class=\"data row6 col18\" >0.279885</td>\n",
       "                        <td id=\"T_0020f_row6_col19\" class=\"data row6 col19\" >-0.011269</td>\n",
       "            </tr>\n",
       "            <tr>\n",
       "                        <th id=\"T_0020f_level0_row7\" class=\"row_heading level0 row7\" >waterfront</th>\n",
       "                        <td id=\"T_0020f_row7_col0\" class=\"data row7 col0\" >-0.002721</td>\n",
       "                        <td id=\"T_0020f_row7_col1\" class=\"data row7 col1\" >0.266369</td>\n",
       "                        <td id=\"T_0020f_row7_col2\" class=\"data row7 col2\" >-0.006582</td>\n",
       "                        <td id=\"T_0020f_row7_col3\" class=\"data row7 col3\" >0.063744</td>\n",
       "                        <td id=\"T_0020f_row7_col4\" class=\"data row7 col4\" >0.103818</td>\n",
       "                        <td id=\"T_0020f_row7_col5\" class=\"data row7 col5\" >0.021604</td>\n",
       "                        <td id=\"T_0020f_row7_col6\" class=\"data row7 col6\" >0.023698</td>\n",
       "                        <td id=\"T_0020f_row7_col7\" class=\"data row7 col7\" >1.000000</td>\n",
       "                        <td id=\"T_0020f_row7_col8\" class=\"data row7 col8\" >0.401857</td>\n",
       "                        <td id=\"T_0020f_row7_col9\" class=\"data row7 col9\" >0.016653</td>\n",
       "                        <td id=\"T_0020f_row7_col10\" class=\"data row7 col10\" >0.082775</td>\n",
       "                        <td id=\"T_0020f_row7_col11\" class=\"data row7 col11\" >0.072075</td>\n",
       "                        <td id=\"T_0020f_row7_col12\" class=\"data row7 col12\" >0.080588</td>\n",
       "                        <td id=\"T_0020f_row7_col13\" class=\"data row7 col13\" >-0.026161</td>\n",
       "                        <td id=\"T_0020f_row7_col14\" class=\"data row7 col14\" >0.092885</td>\n",
       "                        <td id=\"T_0020f_row7_col15\" class=\"data row7 col15\" >0.030285</td>\n",
       "                        <td id=\"T_0020f_row7_col16\" class=\"data row7 col16\" >-0.014274</td>\n",
       "                        <td id=\"T_0020f_row7_col17\" class=\"data row7 col17\" >-0.041910</td>\n",
       "                        <td id=\"T_0020f_row7_col18\" class=\"data row7 col18\" >0.086463</td>\n",
       "                        <td id=\"T_0020f_row7_col19\" class=\"data row7 col19\" >0.030703</td>\n",
       "            </tr>\n",
       "            <tr>\n",
       "                        <th id=\"T_0020f_level0_row8\" class=\"row_heading level0 row8\" >view</th>\n",
       "                        <td id=\"T_0020f_row8_col0\" class=\"data row8 col0\" >0.011592</td>\n",
       "                        <td id=\"T_0020f_row8_col1\" class=\"data row8 col1\" >0.397293</td>\n",
       "                        <td id=\"T_0020f_row8_col2\" class=\"data row8 col2\" >0.079532</td>\n",
       "                        <td id=\"T_0020f_row8_col3\" class=\"data row8 col3\" >0.187737</td>\n",
       "                        <td id=\"T_0020f_row8_col4\" class=\"data row8 col4\" >0.284611</td>\n",
       "                        <td id=\"T_0020f_row8_col5\" class=\"data row8 col5\" >0.074710</td>\n",
       "                        <td id=\"T_0020f_row8_col6\" class=\"data row8 col6\" >0.029444</td>\n",
       "                        <td id=\"T_0020f_row8_col7\" class=\"data row8 col7\" >0.401857</td>\n",
       "                        <td id=\"T_0020f_row8_col8\" class=\"data row8 col8\" >1.000000</td>\n",
       "                        <td id=\"T_0020f_row8_col9\" class=\"data row8 col9\" >0.045990</td>\n",
       "                        <td id=\"T_0020f_row8_col10\" class=\"data row8 col10\" >0.251321</td>\n",
       "                        <td id=\"T_0020f_row8_col11\" class=\"data row8 col11\" >0.167649</td>\n",
       "                        <td id=\"T_0020f_row8_col12\" class=\"data row8 col12\" >0.276947</td>\n",
       "                        <td id=\"T_0020f_row8_col13\" class=\"data row8 col13\" >-0.053440</td>\n",
       "                        <td id=\"T_0020f_row8_col14\" class=\"data row8 col14\" >0.103917</td>\n",
       "                        <td id=\"T_0020f_row8_col15\" class=\"data row8 col15\" >0.084827</td>\n",
       "                        <td id=\"T_0020f_row8_col16\" class=\"data row8 col16\" >0.006157</td>\n",
       "                        <td id=\"T_0020f_row8_col17\" class=\"data row8 col17\" >-0.078400</td>\n",
       "                        <td id=\"T_0020f_row8_col18\" class=\"data row8 col18\" >0.280439</td>\n",
       "                        <td id=\"T_0020f_row8_col19\" class=\"data row8 col19\" >0.072575</td>\n",
       "            </tr>\n",
       "            <tr>\n",
       "                        <th id=\"T_0020f_level0_row9\" class=\"row_heading level0 row9\" >condition</th>\n",
       "                        <td id=\"T_0020f_row9_col0\" class=\"data row9 col0\" >-0.023783</td>\n",
       "                        <td id=\"T_0020f_row9_col1\" class=\"data row9 col1\" >0.036362</td>\n",
       "                        <td id=\"T_0020f_row9_col2\" class=\"data row9 col2\" >0.028472</td>\n",
       "                        <td id=\"T_0020f_row9_col3\" class=\"data row9 col3\" >-0.124982</td>\n",
       "                        <td id=\"T_0020f_row9_col4\" class=\"data row9 col4\" >-0.058753</td>\n",
       "                        <td id=\"T_0020f_row9_col5\" class=\"data row9 col5\" >-0.008958</td>\n",
       "                        <td id=\"T_0020f_row9_col6\" class=\"data row9 col6\" >-0.263768</td>\n",
       "                        <td id=\"T_0020f_row9_col7\" class=\"data row9 col7\" >0.016653</td>\n",
       "                        <td id=\"T_0020f_row9_col8\" class=\"data row9 col8\" >0.045990</td>\n",
       "                        <td id=\"T_0020f_row9_col9\" class=\"data row9 col9\" >1.000000</td>\n",
       "                        <td id=\"T_0020f_row9_col10\" class=\"data row9 col10\" >-0.144674</td>\n",
       "                        <td id=\"T_0020f_row9_col11\" class=\"data row9 col11\" >-0.158214</td>\n",
       "                        <td id=\"T_0020f_row9_col12\" class=\"data row9 col12\" >0.174105</td>\n",
       "                        <td id=\"T_0020f_row9_col13\" class=\"data row9 col13\" >-0.361417</td>\n",
       "                        <td id=\"T_0020f_row9_col14\" class=\"data row9 col14\" >-0.060618</td>\n",
       "                        <td id=\"T_0020f_row9_col15\" class=\"data row9 col15\" >0.003026</td>\n",
       "                        <td id=\"T_0020f_row9_col16\" class=\"data row9 col16\" >-0.014941</td>\n",
       "                        <td id=\"T_0020f_row9_col17\" class=\"data row9 col17\" >-0.106500</td>\n",
       "                        <td id=\"T_0020f_row9_col18\" class=\"data row9 col18\" >-0.092824</td>\n",
       "                        <td id=\"T_0020f_row9_col19\" class=\"data row9 col19\" >-0.003406</td>\n",
       "            </tr>\n",
       "            <tr>\n",
       "                        <th id=\"T_0020f_level0_row10\" class=\"row_heading level0 row10\" >grade</th>\n",
       "                        <td id=\"T_0020f_row10_col0\" class=\"data row10 col0\" >0.008130</td>\n",
       "                        <td id=\"T_0020f_row10_col1\" class=\"data row10 col1\" >0.667434</td>\n",
       "                        <td id=\"T_0020f_row10_col2\" class=\"data row10 col2\" >0.356967</td>\n",
       "                        <td id=\"T_0020f_row10_col3\" class=\"data row10 col3\" >0.664983</td>\n",
       "                        <td id=\"T_0020f_row10_col4\" class=\"data row10 col4\" >0.762704</td>\n",
       "                        <td id=\"T_0020f_row10_col5\" class=\"data row10 col5\" >0.113621</td>\n",
       "                        <td id=\"T_0020f_row10_col6\" class=\"data row10 col6\" >0.458183</td>\n",
       "                        <td id=\"T_0020f_row10_col7\" class=\"data row10 col7\" >0.082775</td>\n",
       "                        <td id=\"T_0020f_row10_col8\" class=\"data row10 col8\" >0.251321</td>\n",
       "                        <td id=\"T_0020f_row10_col9\" class=\"data row10 col9\" >-0.144674</td>\n",
       "                        <td id=\"T_0020f_row10_col10\" class=\"data row10 col10\" >1.000000</td>\n",
       "                        <td id=\"T_0020f_row10_col11\" class=\"data row10 col11\" >0.755923</td>\n",
       "                        <td id=\"T_0020f_row10_col12\" class=\"data row10 col12\" >0.168392</td>\n",
       "                        <td id=\"T_0020f_row10_col13\" class=\"data row10 col13\" >0.446963</td>\n",
       "                        <td id=\"T_0020f_row10_col14\" class=\"data row10 col14\" >0.014414</td>\n",
       "                        <td id=\"T_0020f_row10_col15\" class=\"data row10 col15\" >-0.184862</td>\n",
       "                        <td id=\"T_0020f_row10_col16\" class=\"data row10 col16\" >0.114084</td>\n",
       "                        <td id=\"T_0020f_row10_col17\" class=\"data row10 col17\" >0.198372</td>\n",
       "                        <td id=\"T_0020f_row10_col18\" class=\"data row10 col18\" >0.713202</td>\n",
       "                        <td id=\"T_0020f_row10_col19\" class=\"data row10 col19\" >0.119248</td>\n",
       "            </tr>\n",
       "            <tr>\n",
       "                        <th id=\"T_0020f_level0_row11\" class=\"row_heading level0 row11\" >sqft_above</th>\n",
       "                        <td id=\"T_0020f_row11_col0\" class=\"data row11 col0\" >-0.010842</td>\n",
       "                        <td id=\"T_0020f_row11_col1\" class=\"data row11 col1\" >0.605567</td>\n",
       "                        <td id=\"T_0020f_row11_col2\" class=\"data row11 col2\" >0.477600</td>\n",
       "                        <td id=\"T_0020f_row11_col3\" class=\"data row11 col3\" >0.685342</td>\n",
       "                        <td id=\"T_0020f_row11_col4\" class=\"data row11 col4\" >0.876597</td>\n",
       "                        <td id=\"T_0020f_row11_col5\" class=\"data row11 col5\" >0.183512</td>\n",
       "                        <td id=\"T_0020f_row11_col6\" class=\"data row11 col6\" >0.523885</td>\n",
       "                        <td id=\"T_0020f_row11_col7\" class=\"data row11 col7\" >0.072075</td>\n",
       "                        <td id=\"T_0020f_row11_col8\" class=\"data row11 col8\" >0.167649</td>\n",
       "                        <td id=\"T_0020f_row11_col9\" class=\"data row11 col9\" >-0.158214</td>\n",
       "                        <td id=\"T_0020f_row11_col10\" class=\"data row11 col10\" >0.755923</td>\n",
       "                        <td id=\"T_0020f_row11_col11\" class=\"data row11 col11\" >1.000000</td>\n",
       "                        <td id=\"T_0020f_row11_col12\" class=\"data row11 col12\" >-0.051943</td>\n",
       "                        <td id=\"T_0020f_row11_col13\" class=\"data row11 col13\" >0.423898</td>\n",
       "                        <td id=\"T_0020f_row11_col14\" class=\"data row11 col14\" >0.023285</td>\n",
       "                        <td id=\"T_0020f_row11_col15\" class=\"data row11 col15\" >-0.261190</td>\n",
       "                        <td id=\"T_0020f_row11_col16\" class=\"data row11 col16\" >-0.000816</td>\n",
       "                        <td id=\"T_0020f_row11_col17\" class=\"data row11 col17\" >0.343803</td>\n",
       "                        <td id=\"T_0020f_row11_col18\" class=\"data row11 col18\" >0.731870</td>\n",
       "                        <td id=\"T_0020f_row11_col19\" class=\"data row11 col19\" >0.194050</td>\n",
       "            </tr>\n",
       "            <tr>\n",
       "                        <th id=\"T_0020f_level0_row12\" class=\"row_heading level0 row12\" >sqft_basement</th>\n",
       "                        <td id=\"T_0020f_row12_col0\" class=\"data row12 col0\" >-0.005151</td>\n",
       "                        <td id=\"T_0020f_row12_col1\" class=\"data row12 col1\" >0.323816</td>\n",
       "                        <td id=\"T_0020f_row12_col2\" class=\"data row12 col2\" >0.303093</td>\n",
       "                        <td id=\"T_0020f_row12_col3\" class=\"data row12 col3\" >0.283770</td>\n",
       "                        <td id=\"T_0020f_row12_col4\" class=\"data row12 col4\" >0.435043</td>\n",
       "                        <td id=\"T_0020f_row12_col5\" class=\"data row12 col5\" >0.015286</td>\n",
       "                        <td id=\"T_0020f_row12_col6\" class=\"data row12 col6\" >-0.245705</td>\n",
       "                        <td id=\"T_0020f_row12_col7\" class=\"data row12 col7\" >0.080588</td>\n",
       "                        <td id=\"T_0020f_row12_col8\" class=\"data row12 col8\" >0.276947</td>\n",
       "                        <td id=\"T_0020f_row12_col9\" class=\"data row12 col9\" >0.174105</td>\n",
       "                        <td id=\"T_0020f_row12_col10\" class=\"data row12 col10\" >0.168392</td>\n",
       "                        <td id=\"T_0020f_row12_col11\" class=\"data row12 col11\" >-0.051943</td>\n",
       "                        <td id=\"T_0020f_row12_col12\" class=\"data row12 col12\" >1.000000</td>\n",
       "                        <td id=\"T_0020f_row12_col13\" class=\"data row12 col13\" >-0.133124</td>\n",
       "                        <td id=\"T_0020f_row12_col14\" class=\"data row12 col14\" >0.071323</td>\n",
       "                        <td id=\"T_0020f_row12_col15\" class=\"data row12 col15\" >0.074845</td>\n",
       "                        <td id=\"T_0020f_row12_col16\" class=\"data row12 col16\" >0.110538</td>\n",
       "                        <td id=\"T_0020f_row12_col17\" class=\"data row12 col17\" >-0.144765</td>\n",
       "                        <td id=\"T_0020f_row12_col18\" class=\"data row12 col18\" >0.200355</td>\n",
       "                        <td id=\"T_0020f_row12_col19\" class=\"data row12 col19\" >0.017276</td>\n",
       "            </tr>\n",
       "            <tr>\n",
       "                        <th id=\"T_0020f_level0_row13\" class=\"row_heading level0 row13\" >yr_built</th>\n",
       "                        <td id=\"T_0020f_row13_col0\" class=\"data row13 col0\" >0.021380</td>\n",
       "                        <td id=\"T_0020f_row13_col1\" class=\"data row13 col1\" >0.054012</td>\n",
       "                        <td id=\"T_0020f_row13_col2\" class=\"data row13 col2\" >0.154178</td>\n",
       "                        <td id=\"T_0020f_row13_col3\" class=\"data row13 col3\" >0.506019</td>\n",
       "                        <td id=\"T_0020f_row13_col4\" class=\"data row13 col4\" >0.318049</td>\n",
       "                        <td id=\"T_0020f_row13_col5\" class=\"data row13 col5\" >0.053080</td>\n",
       "                        <td id=\"T_0020f_row13_col6\" class=\"data row13 col6\" >0.489319</td>\n",
       "                        <td id=\"T_0020f_row13_col7\" class=\"data row13 col7\" >-0.026161</td>\n",
       "                        <td id=\"T_0020f_row13_col8\" class=\"data row13 col8\" >-0.053440</td>\n",
       "                        <td id=\"T_0020f_row13_col9\" class=\"data row13 col9\" >-0.361417</td>\n",
       "                        <td id=\"T_0020f_row13_col10\" class=\"data row13 col10\" >0.446963</td>\n",
       "                        <td id=\"T_0020f_row13_col11\" class=\"data row13 col11\" >0.423898</td>\n",
       "                        <td id=\"T_0020f_row13_col12\" class=\"data row13 col12\" >-0.133124</td>\n",
       "                        <td id=\"T_0020f_row13_col13\" class=\"data row13 col13\" >1.000000</td>\n",
       "                        <td id=\"T_0020f_row13_col14\" class=\"data row13 col14\" >-0.224874</td>\n",
       "                        <td id=\"T_0020f_row13_col15\" class=\"data row13 col15\" >-0.346869</td>\n",
       "                        <td id=\"T_0020f_row13_col16\" class=\"data row13 col16\" >-0.148122</td>\n",
       "                        <td id=\"T_0020f_row13_col17\" class=\"data row13 col17\" >0.409356</td>\n",
       "                        <td id=\"T_0020f_row13_col18\" class=\"data row13 col18\" >0.326229</td>\n",
       "                        <td id=\"T_0020f_row13_col19\" class=\"data row13 col19\" >0.070958</td>\n",
       "            </tr>\n",
       "            <tr>\n",
       "                        <th id=\"T_0020f_level0_row14\" class=\"row_heading level0 row14\" >yr_renovated</th>\n",
       "                        <td id=\"T_0020f_row14_col0\" class=\"data row14 col0\" >-0.016907</td>\n",
       "                        <td id=\"T_0020f_row14_col1\" class=\"data row14 col1\" >0.126434</td>\n",
       "                        <td id=\"T_0020f_row14_col2\" class=\"data row14 col2\" >0.018841</td>\n",
       "                        <td id=\"T_0020f_row14_col3\" class=\"data row14 col3\" >0.050739</td>\n",
       "                        <td id=\"T_0020f_row14_col4\" class=\"data row14 col4\" >0.055363</td>\n",
       "                        <td id=\"T_0020f_row14_col5\" class=\"data row14 col5\" >0.007644</td>\n",
       "                        <td id=\"T_0020f_row14_col6\" class=\"data row14 col6\" >0.006338</td>\n",
       "                        <td id=\"T_0020f_row14_col7\" class=\"data row14 col7\" >0.092885</td>\n",
       "                        <td id=\"T_0020f_row14_col8\" class=\"data row14 col8\" >0.103917</td>\n",
       "                        <td id=\"T_0020f_row14_col9\" class=\"data row14 col9\" >-0.060618</td>\n",
       "                        <td id=\"T_0020f_row14_col10\" class=\"data row14 col10\" >0.014414</td>\n",
       "                        <td id=\"T_0020f_row14_col11\" class=\"data row14 col11\" >0.023285</td>\n",
       "                        <td id=\"T_0020f_row14_col12\" class=\"data row14 col12\" >0.071323</td>\n",
       "                        <td id=\"T_0020f_row14_col13\" class=\"data row14 col13\" >-0.224874</td>\n",
       "                        <td id=\"T_0020f_row14_col14\" class=\"data row14 col14\" >1.000000</td>\n",
       "                        <td id=\"T_0020f_row14_col15\" class=\"data row14 col15\" >0.064357</td>\n",
       "                        <td id=\"T_0020f_row14_col16\" class=\"data row14 col16\" >0.029398</td>\n",
       "                        <td id=\"T_0020f_row14_col17\" class=\"data row14 col17\" >-0.068372</td>\n",
       "                        <td id=\"T_0020f_row14_col18\" class=\"data row14 col18\" >-0.002673</td>\n",
       "                        <td id=\"T_0020f_row14_col19\" class=\"data row14 col19\" >0.007854</td>\n",
       "            </tr>\n",
       "            <tr>\n",
       "                        <th id=\"T_0020f_level0_row15\" class=\"row_heading level0 row15\" >zipcode</th>\n",
       "                        <td id=\"T_0020f_row15_col0\" class=\"data row15 col0\" >-0.008224</td>\n",
       "                        <td id=\"T_0020f_row15_col1\" class=\"data row15 col1\" >-0.053203</td>\n",
       "                        <td id=\"T_0020f_row15_col2\" class=\"data row15 col2\" >-0.152668</td>\n",
       "                        <td id=\"T_0020f_row15_col3\" class=\"data row15 col3\" >-0.203866</td>\n",
       "                        <td id=\"T_0020f_row15_col4\" class=\"data row15 col4\" >-0.199430</td>\n",
       "                        <td id=\"T_0020f_row15_col5\" class=\"data row15 col5\" >-0.129574</td>\n",
       "                        <td id=\"T_0020f_row15_col6\" class=\"data row15 col6\" >-0.059121</td>\n",
       "                        <td id=\"T_0020f_row15_col7\" class=\"data row15 col7\" >0.030285</td>\n",
       "                        <td id=\"T_0020f_row15_col8\" class=\"data row15 col8\" >0.084827</td>\n",
       "                        <td id=\"T_0020f_row15_col9\" class=\"data row15 col9\" >0.003026</td>\n",
       "                        <td id=\"T_0020f_row15_col10\" class=\"data row15 col10\" >-0.184862</td>\n",
       "                        <td id=\"T_0020f_row15_col11\" class=\"data row15 col11\" >-0.261190</td>\n",
       "                        <td id=\"T_0020f_row15_col12\" class=\"data row15 col12\" >0.074845</td>\n",
       "                        <td id=\"T_0020f_row15_col13\" class=\"data row15 col13\" >-0.346869</td>\n",
       "                        <td id=\"T_0020f_row15_col14\" class=\"data row15 col14\" >0.064357</td>\n",
       "                        <td id=\"T_0020f_row15_col15\" class=\"data row15 col15\" >1.000000</td>\n",
       "                        <td id=\"T_0020f_row15_col16\" class=\"data row15 col16\" >0.267048</td>\n",
       "                        <td id=\"T_0020f_row15_col17\" class=\"data row15 col17\" >-0.564072</td>\n",
       "                        <td id=\"T_0020f_row15_col18\" class=\"data row15 col18\" >-0.279033</td>\n",
       "                        <td id=\"T_0020f_row15_col19\" class=\"data row15 col19\" >-0.147221</td>\n",
       "            </tr>\n",
       "            <tr>\n",
       "                        <th id=\"T_0020f_level0_row16\" class=\"row_heading level0 row16\" >lat</th>\n",
       "                        <td id=\"T_0020f_row16_col0\" class=\"data row16 col0\" >-0.001891</td>\n",
       "                        <td id=\"T_0020f_row16_col1\" class=\"data row16 col1\" >0.307003</td>\n",
       "                        <td id=\"T_0020f_row16_col2\" class=\"data row16 col2\" >-0.008931</td>\n",
       "                        <td id=\"T_0020f_row16_col3\" class=\"data row16 col3\" >0.024573</td>\n",
       "                        <td id=\"T_0020f_row16_col4\" class=\"data row16 col4\" >0.052529</td>\n",
       "                        <td id=\"T_0020f_row16_col5\" class=\"data row16 col5\" >-0.085683</td>\n",
       "                        <td id=\"T_0020f_row16_col6\" class=\"data row16 col6\" >0.049614</td>\n",
       "                        <td id=\"T_0020f_row16_col7\" class=\"data row16 col7\" >-0.014274</td>\n",
       "                        <td id=\"T_0020f_row16_col8\" class=\"data row16 col8\" >0.006157</td>\n",
       "                        <td id=\"T_0020f_row16_col9\" class=\"data row16 col9\" >-0.014941</td>\n",
       "                        <td id=\"T_0020f_row16_col10\" class=\"data row16 col10\" >0.114084</td>\n",
       "                        <td id=\"T_0020f_row16_col11\" class=\"data row16 col11\" >-0.000816</td>\n",
       "                        <td id=\"T_0020f_row16_col12\" class=\"data row16 col12\" >0.110538</td>\n",
       "                        <td id=\"T_0020f_row16_col13\" class=\"data row16 col13\" >-0.148122</td>\n",
       "                        <td id=\"T_0020f_row16_col14\" class=\"data row16 col14\" >0.029398</td>\n",
       "                        <td id=\"T_0020f_row16_col15\" class=\"data row16 col15\" >0.267048</td>\n",
       "                        <td id=\"T_0020f_row16_col16\" class=\"data row16 col16\" >1.000000</td>\n",
       "                        <td id=\"T_0020f_row16_col17\" class=\"data row16 col17\" >-0.135512</td>\n",
       "                        <td id=\"T_0020f_row16_col18\" class=\"data row16 col18\" >0.048858</td>\n",
       "                        <td id=\"T_0020f_row16_col19\" class=\"data row16 col19\" >-0.086419</td>\n",
       "            </tr>\n",
       "            <tr>\n",
       "                        <th id=\"T_0020f_level0_row17\" class=\"row_heading level0 row17\" >long</th>\n",
       "                        <td id=\"T_0020f_row17_col0\" class=\"data row17 col0\" >0.020799</td>\n",
       "                        <td id=\"T_0020f_row17_col1\" class=\"data row17 col1\" >0.021626</td>\n",
       "                        <td id=\"T_0020f_row17_col2\" class=\"data row17 col2\" >0.129473</td>\n",
       "                        <td id=\"T_0020f_row17_col3\" class=\"data row17 col3\" >0.223042</td>\n",
       "                        <td id=\"T_0020f_row17_col4\" class=\"data row17 col4\" >0.240223</td>\n",
       "                        <td id=\"T_0020f_row17_col5\" class=\"data row17 col5\" >0.229521</td>\n",
       "                        <td id=\"T_0020f_row17_col6\" class=\"data row17 col6\" >0.125419</td>\n",
       "                        <td id=\"T_0020f_row17_col7\" class=\"data row17 col7\" >-0.041910</td>\n",
       "                        <td id=\"T_0020f_row17_col8\" class=\"data row17 col8\" >-0.078400</td>\n",
       "                        <td id=\"T_0020f_row17_col9\" class=\"data row17 col9\" >-0.106500</td>\n",
       "                        <td id=\"T_0020f_row17_col10\" class=\"data row17 col10\" >0.198372</td>\n",
       "                        <td id=\"T_0020f_row17_col11\" class=\"data row17 col11\" >0.343803</td>\n",
       "                        <td id=\"T_0020f_row17_col12\" class=\"data row17 col12\" >-0.144765</td>\n",
       "                        <td id=\"T_0020f_row17_col13\" class=\"data row17 col13\" >0.409356</td>\n",
       "                        <td id=\"T_0020f_row17_col14\" class=\"data row17 col14\" >-0.068372</td>\n",
       "                        <td id=\"T_0020f_row17_col15\" class=\"data row17 col15\" >-0.564072</td>\n",
       "                        <td id=\"T_0020f_row17_col16\" class=\"data row17 col16\" >-0.135512</td>\n",
       "                        <td id=\"T_0020f_row17_col17\" class=\"data row17 col17\" >1.000000</td>\n",
       "                        <td id=\"T_0020f_row17_col18\" class=\"data row17 col18\" >0.334605</td>\n",
       "                        <td id=\"T_0020f_row17_col19\" class=\"data row17 col19\" >0.254451</td>\n",
       "            </tr>\n",
       "            <tr>\n",
       "                        <th id=\"T_0020f_level0_row18\" class=\"row_heading level0 row18\" >sqft_living15</th>\n",
       "                        <td id=\"T_0020f_row18_col0\" class=\"data row18 col0\" >-0.002901</td>\n",
       "                        <td id=\"T_0020f_row18_col1\" class=\"data row18 col1\" >0.585379</td>\n",
       "                        <td id=\"T_0020f_row18_col2\" class=\"data row18 col2\" >0.391638</td>\n",
       "                        <td id=\"T_0020f_row18_col3\" class=\"data row18 col3\" >0.568634</td>\n",
       "                        <td id=\"T_0020f_row18_col4\" class=\"data row18 col4\" >0.756420</td>\n",
       "                        <td id=\"T_0020f_row18_col5\" class=\"data row18 col5\" >0.144608</td>\n",
       "                        <td id=\"T_0020f_row18_col6\" class=\"data row18 col6\" >0.279885</td>\n",
       "                        <td id=\"T_0020f_row18_col7\" class=\"data row18 col7\" >0.086463</td>\n",
       "                        <td id=\"T_0020f_row18_col8\" class=\"data row18 col8\" >0.280439</td>\n",
       "                        <td id=\"T_0020f_row18_col9\" class=\"data row18 col9\" >-0.092824</td>\n",
       "                        <td id=\"T_0020f_row18_col10\" class=\"data row18 col10\" >0.713202</td>\n",
       "                        <td id=\"T_0020f_row18_col11\" class=\"data row18 col11\" >0.731870</td>\n",
       "                        <td id=\"T_0020f_row18_col12\" class=\"data row18 col12\" >0.200355</td>\n",
       "                        <td id=\"T_0020f_row18_col13\" class=\"data row18 col13\" >0.326229</td>\n",
       "                        <td id=\"T_0020f_row18_col14\" class=\"data row18 col14\" >-0.002673</td>\n",
       "                        <td id=\"T_0020f_row18_col15\" class=\"data row18 col15\" >-0.279033</td>\n",
       "                        <td id=\"T_0020f_row18_col16\" class=\"data row18 col16\" >0.048858</td>\n",
       "                        <td id=\"T_0020f_row18_col17\" class=\"data row18 col17\" >0.334605</td>\n",
       "                        <td id=\"T_0020f_row18_col18\" class=\"data row18 col18\" >1.000000</td>\n",
       "                        <td id=\"T_0020f_row18_col19\" class=\"data row18 col19\" >0.183192</td>\n",
       "            </tr>\n",
       "            <tr>\n",
       "                        <th id=\"T_0020f_level0_row19\" class=\"row_heading level0 row19\" >sqft_lot15</th>\n",
       "                        <td id=\"T_0020f_row19_col0\" class=\"data row19 col0\" >-0.138798</td>\n",
       "                        <td id=\"T_0020f_row19_col1\" class=\"data row19 col1\" >0.082447</td>\n",
       "                        <td id=\"T_0020f_row19_col2\" class=\"data row19 col2\" >0.029244</td>\n",
       "                        <td id=\"T_0020f_row19_col3\" class=\"data row19 col3\" >0.087175</td>\n",
       "                        <td id=\"T_0020f_row19_col4\" class=\"data row19 col4\" >0.183286</td>\n",
       "                        <td id=\"T_0020f_row19_col5\" class=\"data row19 col5\" >0.718557</td>\n",
       "                        <td id=\"T_0020f_row19_col6\" class=\"data row19 col6\" >-0.011269</td>\n",
       "                        <td id=\"T_0020f_row19_col7\" class=\"data row19 col7\" >0.030703</td>\n",
       "                        <td id=\"T_0020f_row19_col8\" class=\"data row19 col8\" >0.072575</td>\n",
       "                        <td id=\"T_0020f_row19_col9\" class=\"data row19 col9\" >-0.003406</td>\n",
       "                        <td id=\"T_0020f_row19_col10\" class=\"data row19 col10\" >0.119248</td>\n",
       "                        <td id=\"T_0020f_row19_col11\" class=\"data row19 col11\" >0.194050</td>\n",
       "                        <td id=\"T_0020f_row19_col12\" class=\"data row19 col12\" >0.017276</td>\n",
       "                        <td id=\"T_0020f_row19_col13\" class=\"data row19 col13\" >0.070958</td>\n",
       "                        <td id=\"T_0020f_row19_col14\" class=\"data row19 col14\" >0.007854</td>\n",
       "                        <td id=\"T_0020f_row19_col15\" class=\"data row19 col15\" >-0.147221</td>\n",
       "                        <td id=\"T_0020f_row19_col16\" class=\"data row19 col16\" >-0.086419</td>\n",
       "                        <td id=\"T_0020f_row19_col17\" class=\"data row19 col17\" >0.254451</td>\n",
       "                        <td id=\"T_0020f_row19_col18\" class=\"data row19 col18\" >0.183192</td>\n",
       "                        <td id=\"T_0020f_row19_col19\" class=\"data row19 col19\" >1.000000</td>\n",
       "            </tr>\n",
       "    </tbody></table>"
      ],
      "text/plain": [
       "<pandas.io.formats.style.Styler at 0x20c89e8ea60>"
      ]
     },
     "execution_count": 15,
     "metadata": {},
     "output_type": "execute_result"
    }
   ],
   "source": [
    "corr_matrix = train_data.corr()\n",
    "# print(corr_matrix)\n",
    "\n",
    "corr_matrix.style.background_gradient(cmap='RdYlGn')"
   ]
  },
  {
   "cell_type": "markdown",
   "metadata": {},
   "source": [
    "### By observing the plots for variables and correlation matrix, we found that our hypothesis is not correct. From our hypothesis variables, only 'sqft_living' and 'grade' are having significant correlation with the target variable 'price'. Rest other variables are not having significant correlation with the target variable. We will not select these variables for the training of our model as they are not having much significance.\n",
    "### However, there were few variables which we did not take into consideration while formulating our hypothesis, they found out to be having good correlation with the target variable. Those variables are, 'bathrooms', 'sqft_above', 'sqft_living15' and 'view'. So we also have to consider these variables in the process of training the model."
   ]
  },
  {
   "cell_type": "code",
   "execution_count": 16,
   "metadata": {},
   "outputs": [
    {
     "data": {
      "image/png": "[encoded data removed]",
      "text/plain": [
       "<Figure size 432x288 with 1 Axes>"
      ]
     },
     "metadata": {
      "needs_background": "light"
     },
     "output_type": "display_data"
    }
   ],
   "source": [
    "plt.scatter(train_data[ 'sqft_above'], train_data['price'])\n",
    "plt.xlabel( 'sqft_above', fontsize=14)\n",
    "plt.ylabel(\"Price\", fontsize=14)\n",
    "plt.show()"
   ]
  },
  {
   "cell_type": "code",
   "execution_count": 17,
   "metadata": {},
   "outputs": [
    {
     "data": {
      "image/png": "[encoded data removed]",
      "text/plain": [
       "<Figure size 432x288 with 1 Axes>"
      ]
     },
     "metadata": {
      "needs_background": "light"
     },
     "output_type": "display_data"
    }
   ],
   "source": [
    "plt.scatter(train_data['sqft_living15'], train_data['price'])\n",
    "plt.xlabel('sqft_living15', fontsize=14)\n",
    "plt.ylabel(\"Price\", fontsize=14)\n",
    "plt.show()"
   ]
  },
  {
   "cell_type": "code",
   "execution_count": 63,
   "metadata": {},
   "outputs": [
    {
     "data": {
      "image/png": "[encoded data removed]",
      "text/plain": [
       "<Figure size 432x288 with 1 Axes>"
      ]
     },
     "metadata": {
      "needs_background": "light"
     },
     "output_type": "display_data"
    }
   ],
   "source": [
    "plt.bar(train_data['bathrooms'], train_data['price'])\n",
    "plt.xlabel('Bathrooms', fontsize=14)\n",
    "plt.ylabel(\"Price\", fontsize=14)\n",
    "plt.show()"
   ]
  },
  {
   "cell_type": "code",
   "execution_count": 64,
   "metadata": {},
   "outputs": [
    {
     "data": {
      "image/png": "[encoded data removed]",
      "text/plain": [
       "<Figure size 432x288 with 1 Axes>"
      ]
     },
     "metadata": {
      "needs_background": "light"
     },
     "output_type": "display_data"
    }
   ],
   "source": [
    "plt.bar(train_data['view'], train_data['price'])\n",
    "plt.xlabel('View', fontsize=14)\n",
    "plt.ylabel(\"Price\", fontsize=14)\n",
    "plt.show()"
   ]
  },
  {
   "cell_type": "markdown",
   "metadata": {},
   "source": [
    "# Model Fitting :-"
   ]
  },
  {
   "cell_type": "markdown",
   "metadata": {},
   "source": [
    "### By doing EDA on our dataset, we got to know that which variables are having significant correlation with our target variable. Therefore, we will select some set of predictors to train different linear regression models on our training dataset. We will evaluate the performance of the model by its R square value and RMSE value."
   ]
  },
  {
   "cell_type": "markdown",
   "metadata": {},
   "source": [
    "### 1. Based on correlation of variables with target variable, we will be taking variables having high correlation with the target variable. In correlation matrix we found that 'sqft_living', 'grade', 'bathrooms' and 'view' are having significant correlation with 'price'. Also 'sqft_living', 'sqft_above', 'sqft_living15' are correlated with each other, therefore, we are taking only 'sqft_living' which has highest correlation with the 'price'."
   ]
  },
  {
   "cell_type": "code",
   "execution_count": 5,
   "metadata": {},
   "outputs": [
    {
     "name": "stdout",
     "output_type": "stream",
     "text": [
      "The rmse value is 247115.69283924796\n",
      "The r square value is 0.5685659633983481\n"
     ]
    }
   ],
   "source": [
    "x_train = train_data[['sqft_living', 'grade', 'bathrooms', 'view']]\n",
    "y_train = train_data[\"price\"]\n",
    "\n",
    "model1 = LinearRegression()\n",
    "score1 = cross_val_score(model1, x_train, y_train, cv=10, scoring='r2')\n",
    "score2 = cross_val_score(model1, x_train, y_train, cv=10, scoring='neg_root_mean_squared_error')\n",
    "print('The rmse value is',np.abs(score2.mean()))\n",
    "print('The r square value is',score1.mean())\n"
   ]
  },
  {
   "cell_type": "markdown",
   "metadata": {},
   "source": [
    "### 2. To improve the accuracy of previous model, we will add more variables to train the model which we find significant. We are adding 'bedrooms' and 'waterfront'."
   ]
  },
  {
   "cell_type": "code",
   "execution_count": 6,
   "metadata": {},
   "outputs": [
    {
     "name": "stdout",
     "output_type": "stream",
     "text": [
      "The rmse value is 241094.1350049655\n",
      "The r square value is 0.5882855681292949\n"
     ]
    }
   ],
   "source": [
    "x_train = train_data[['sqft_living', 'bedrooms', 'bathrooms', 'grade', 'view', 'waterfront']]\n",
    "y_train = train_data[\"price\"]\n",
    "\n",
    "model2 = LinearRegression()\n",
    "score1 = cross_val_score(model2, x_train, y_train, cv=10, scoring='r2')\n",
    "score2 = cross_val_score(model2, x_train, y_train, cv=10, scoring='neg_root_mean_squared_error')\n",
    "print('The rmse value is',np.abs(score2.mean()))\n",
    "print('The r square value is',score1.mean())\n"
   ]
  },
  {
   "cell_type": "markdown",
   "metadata": {},
   "source": [
    "### 3. For further improvement in performance of our model, we are adding few more variables to see if they can improve the performance of the previous model. We thought that location of the house and in which year it is built can help us to predict the price of house more accurately, so we are adding 'lat', and 'yr_built' in our model to see if the performance is increasing."
   ]
  },
  {
   "cell_type": "code",
   "execution_count": 9,
   "metadata": {},
   "outputs": [
    {
     "name": "stdout",
     "output_type": "stream",
     "text": [
      "The rmse value is 211254.4212362954\n",
      "The r square value is 0.6846460109606534\n"
     ]
    }
   ],
   "source": [
    "x_train = train_data[['sqft_living', 'bedrooms', 'bathrooms', 'grade', 'view', 'waterfront', 'lat', 'yr_built']]\n",
    "y_train = train_data[\"price\"]\n",
    "\n",
    "model3 = LinearRegression()\n",
    "score1 = cross_val_score(model3, x_train, y_train, cv=10, scoring='r2')\n",
    "score2 = cross_val_score(model3, x_train, y_train, cv=10, scoring='neg_root_mean_squared_error')\n",
    "print('The rmse value is',np.abs(score2.mean()))\n",
    "print('The r square value is',score1.mean())\n",
    "\n"
   ]
  },
  {
   "cell_type": "markdown",
   "metadata": {},
   "source": [
    "### => We further tried to add the variables, but they are not showing any significant improvement in the performance of our model and increasing its complexity, so we are not considering them. Therefore, the model 3 is giving us the best performance."
   ]
  },
  {
   "cell_type": "code",
   "execution_count": null,
   "metadata": {},
   "outputs": [],
   "source": []
  },
  {
   "cell_type": "markdown",
   "metadata": {},
   "source": [
    "# FEATURE ENGINEERING\n"
   ]
  },
  {
   "cell_type": "markdown",
   "metadata": {},
   "source": [
    "### Feature engineering is done to extract and organize the important features from the dataset which can help us to fit a machine learning model with good performance."
   ]
  },
  {
   "cell_type": "markdown",
   "metadata": {},
   "source": [
    "### 1. LOG TRANSFORMATION"
   ]
  },
  {
   "cell_type": "markdown",
   "metadata": {},
   "source": [
    "### Some variables which are having skewed distribution. After analyzing there range which is greater than zero, we decided to do the log transformation of that variable so that the distribution becomes normal and it also does the scaling of that variable in logarithm scale. We are doing log transformation of variables 'price' and 'sqft_living'."
   ]
  },
  {
   "cell_type": "code",
   "execution_count": 11,
   "metadata": {},
   "outputs": [
    {
     "data": {
      "text/plain": [
       "array([[<AxesSubplot:title={'center':'price'}>]], dtype=object)"
      ]
     },
     "execution_count": 11,
     "metadata": {},
     "output_type": "execute_result"
    },
    {
     "data": {
      "image/png": "[encoded data removed]",
      "text/plain": [
       "<Figure size 432x288 with 1 Axes>"
      ]
     },
     "metadata": {
      "needs_background": "light"
     },
     "output_type": "display_data"
    }
   ],
   "source": [
    "train_data.hist(column='price')"
   ]
  },
  {
   "cell_type": "code",
   "execution_count": 12,
   "metadata": {},
   "outputs": [
    {
     "data": {
      "text/html": [
       "<div>\n",
       "<style scoped>\n",
       "    .dataframe tbody tr th:only-of-type {\n",
       "        vertical-align: middle;\n",
       "    }\n",
       "\n",
       "    .dataframe tbody tr th {\n",
       "        vertical-align: top;\n",
       "    }\n",
       "\n",
       "    .dataframe thead th {\n",
       "        text-align: right;\n",
       "    }\n",
       "</style>\n",
       "<table border=\"1\" class=\"dataframe\">\n",
       "  <thead>\n",
       "    <tr style=\"text-align: right;\">\n",
       "      <th></th>\n",
       "      <th>id</th>\n",
       "      <th>date</th>\n",
       "      <th>price</th>\n",
       "      <th>bedrooms</th>\n",
       "      <th>bathrooms</th>\n",
       "      <th>sqft_living</th>\n",
       "      <th>sqft_lot</th>\n",
       "      <th>floors</th>\n",
       "      <th>waterfront</th>\n",
       "      <th>view</th>\n",
       "      <th>...</th>\n",
       "      <th>sqft_basement</th>\n",
       "      <th>yr_built</th>\n",
       "      <th>yr_renovated</th>\n",
       "      <th>zipcode</th>\n",
       "      <th>lat</th>\n",
       "      <th>long</th>\n",
       "      <th>sqft_living15</th>\n",
       "      <th>sqft_lot15</th>\n",
       "      <th>logged sqft_living</th>\n",
       "      <th>logged price</th>\n",
       "    </tr>\n",
       "  </thead>\n",
       "  <tbody>\n",
       "    <tr>\n",
       "      <th>0</th>\n",
       "      <td>2487200875</td>\n",
       "      <td>20141209T000000</td>\n",
       "      <td>604000.0</td>\n",
       "      <td>4</td>\n",
       "      <td>3.00</td>\n",
       "      <td>1960</td>\n",
       "      <td>5000</td>\n",
       "      <td>1.0</td>\n",
       "      <td>0</td>\n",
       "      <td>0</td>\n",
       "      <td>...</td>\n",
       "      <td>910</td>\n",
       "      <td>1965</td>\n",
       "      <td>0</td>\n",
       "      <td>98136</td>\n",
       "      <td>47.5208</td>\n",
       "      <td>-122.393</td>\n",
       "      <td>1360</td>\n",
       "      <td>5000</td>\n",
       "      <td>7.580700</td>\n",
       "      <td>13.311329</td>\n",
       "    </tr>\n",
       "    <tr>\n",
       "      <th>1</th>\n",
       "      <td>7237550310</td>\n",
       "      <td>20140512T000000</td>\n",
       "      <td>1225000.0</td>\n",
       "      <td>4</td>\n",
       "      <td>4.50</td>\n",
       "      <td>5420</td>\n",
       "      <td>101930</td>\n",
       "      <td>1.0</td>\n",
       "      <td>0</td>\n",
       "      <td>0</td>\n",
       "      <td>...</td>\n",
       "      <td>1530</td>\n",
       "      <td>2001</td>\n",
       "      <td>0</td>\n",
       "      <td>98053</td>\n",
       "      <td>47.6561</td>\n",
       "      <td>-122.005</td>\n",
       "      <td>4760</td>\n",
       "      <td>101930</td>\n",
       "      <td>8.597851</td>\n",
       "      <td>14.018451</td>\n",
       "    </tr>\n",
       "    <tr>\n",
       "      <th>2</th>\n",
       "      <td>9212900260</td>\n",
       "      <td>20140527T000000</td>\n",
       "      <td>468000.0</td>\n",
       "      <td>2</td>\n",
       "      <td>1.00</td>\n",
       "      <td>1160</td>\n",
       "      <td>6000</td>\n",
       "      <td>1.0</td>\n",
       "      <td>0</td>\n",
       "      <td>0</td>\n",
       "      <td>...</td>\n",
       "      <td>300</td>\n",
       "      <td>1942</td>\n",
       "      <td>0</td>\n",
       "      <td>98115</td>\n",
       "      <td>47.6900</td>\n",
       "      <td>-122.292</td>\n",
       "      <td>1330</td>\n",
       "      <td>6000</td>\n",
       "      <td>7.056175</td>\n",
       "      <td>13.056224</td>\n",
       "    </tr>\n",
       "    <tr>\n",
       "      <th>3</th>\n",
       "      <td>114101516</td>\n",
       "      <td>20140528T000000</td>\n",
       "      <td>310000.0</td>\n",
       "      <td>3</td>\n",
       "      <td>1.00</td>\n",
       "      <td>1430</td>\n",
       "      <td>19901</td>\n",
       "      <td>1.5</td>\n",
       "      <td>0</td>\n",
       "      <td>0</td>\n",
       "      <td>...</td>\n",
       "      <td>0</td>\n",
       "      <td>1927</td>\n",
       "      <td>0</td>\n",
       "      <td>98028</td>\n",
       "      <td>47.7558</td>\n",
       "      <td>-122.229</td>\n",
       "      <td>1780</td>\n",
       "      <td>12697</td>\n",
       "      <td>7.265430</td>\n",
       "      <td>12.644328</td>\n",
       "    </tr>\n",
       "    <tr>\n",
       "      <th>4</th>\n",
       "      <td>6054650070</td>\n",
       "      <td>20141007T000000</td>\n",
       "      <td>400000.0</td>\n",
       "      <td>3</td>\n",
       "      <td>1.75</td>\n",
       "      <td>1370</td>\n",
       "      <td>9680</td>\n",
       "      <td>1.0</td>\n",
       "      <td>0</td>\n",
       "      <td>0</td>\n",
       "      <td>...</td>\n",
       "      <td>0</td>\n",
       "      <td>1977</td>\n",
       "      <td>0</td>\n",
       "      <td>98074</td>\n",
       "      <td>47.6127</td>\n",
       "      <td>-122.045</td>\n",
       "      <td>1370</td>\n",
       "      <td>10208</td>\n",
       "      <td>7.222566</td>\n",
       "      <td>12.899220</td>\n",
       "    </tr>\n",
       "  </tbody>\n",
       "</table>\n",
       "<p>5 rows × 23 columns</p>\n",
       "</div>"
      ],
      "text/plain": [
       "           id             date      price  bedrooms  bathrooms  sqft_living  \\\n",
       "0  2487200875  20141209T000000   604000.0         4       3.00         1960   \n",
       "1  7237550310  20140512T000000  1225000.0         4       4.50         5420   \n",
       "2  9212900260  20140527T000000   468000.0         2       1.00         1160   \n",
       "3   114101516  20140528T000000   310000.0         3       1.00         1430   \n",
       "4  6054650070  20141007T000000   400000.0         3       1.75         1370   \n",
       "\n",
       "   sqft_lot  floors  waterfront  view  ...  sqft_basement  yr_built  \\\n",
       "0      5000     1.0           0     0  ...            910      1965   \n",
       "1    101930     1.0           0     0  ...           1530      2001   \n",
       "2      6000     1.0           0     0  ...            300      1942   \n",
       "3     19901     1.5           0     0  ...              0      1927   \n",
       "4      9680     1.0           0     0  ...              0      1977   \n",
       "\n",
       "   yr_renovated  zipcode      lat     long  sqft_living15  sqft_lot15  \\\n",
       "0             0    98136  47.5208 -122.393           1360        5000   \n",
       "1             0    98053  47.6561 -122.005           4760      101930   \n",
       "2             0    98115  47.6900 -122.292           1330        6000   \n",
       "3             0    98028  47.7558 -122.229           1780       12697   \n",
       "4             0    98074  47.6127 -122.045           1370       10208   \n",
       "\n",
       "   logged sqft_living  logged price  \n",
       "0            7.580700     13.311329  \n",
       "1            8.597851     14.018451  \n",
       "2            7.056175     13.056224  \n",
       "3            7.265430     12.644328  \n",
       "4            7.222566     12.899220  \n",
       "\n",
       "[5 rows x 23 columns]"
      ]
     },
     "execution_count": 12,
     "metadata": {},
     "output_type": "execute_result"
    }
   ],
   "source": [
    "train_data['logged price']=np.log(train_data.price)\n",
    "train_data.head()"
   ]
  },
  {
   "cell_type": "code",
   "execution_count": 13,
   "metadata": {},
   "outputs": [
    {
     "data": {
      "text/plain": [
       "array([[<AxesSubplot:title={'center':'logged price'}>]], dtype=object)"
      ]
     },
     "execution_count": 13,
     "metadata": {},
     "output_type": "execute_result"
    },
    {
     "data": {
      "image/png": "[encoded data removed]",
      "text/plain": [
       "<Figure size 432x288 with 1 Axes>"
      ]
     },
     "metadata": {
      "needs_background": "light"
     },
     "output_type": "display_data"
    }
   ],
   "source": [
    "train_data.hist(column='logged price')"
   ]
  },
  {
   "cell_type": "markdown",
   "metadata": {},
   "source": [
    "### FEATURE SQFT_LIVING BEFORE LOG TRANSFORMATION"
   ]
  },
  {
   "cell_type": "code",
   "execution_count": 14,
   "metadata": {
    "scrolled": true
   },
   "outputs": [
    {
     "data": {
      "text/plain": [
       "<seaborn.axisgrid.FacetGrid at 0x1f009625a60>"
      ]
     },
     "execution_count": 14,
     "metadata": {},
     "output_type": "execute_result"
    },
    {
     "data": {
      "image/png": "[encoded data removed]",
      "text/plain": [
       "<Figure size 360x360 with 1 Axes>"
      ]
     },
     "metadata": {
      "needs_background": "light"
     },
     "output_type": "display_data"
    }
   ],
   "source": [
    "sns.displot(train_data['sqft_living'])"
   ]
  },
  {
   "cell_type": "code",
   "execution_count": 10,
   "metadata": {},
   "outputs": [
    {
     "data": {
      "text/html": [
       "<div>\n",
       "<style scoped>\n",
       "    .dataframe tbody tr th:only-of-type {\n",
       "        vertical-align: middle;\n",
       "    }\n",
       "\n",
       "    .dataframe tbody tr th {\n",
       "        vertical-align: top;\n",
       "    }\n",
       "\n",
       "    .dataframe thead th {\n",
       "        text-align: right;\n",
       "    }\n",
       "</style>\n",
       "<table border=\"1\" class=\"dataframe\">\n",
       "  <thead>\n",
       "    <tr style=\"text-align: right;\">\n",
       "      <th></th>\n",
       "      <th>id</th>\n",
       "      <th>date</th>\n",
       "      <th>price</th>\n",
       "      <th>bedrooms</th>\n",
       "      <th>bathrooms</th>\n",
       "      <th>sqft_living</th>\n",
       "      <th>sqft_lot</th>\n",
       "      <th>floors</th>\n",
       "      <th>waterfront</th>\n",
       "      <th>view</th>\n",
       "      <th>...</th>\n",
       "      <th>sqft_above</th>\n",
       "      <th>sqft_basement</th>\n",
       "      <th>yr_built</th>\n",
       "      <th>yr_renovated</th>\n",
       "      <th>zipcode</th>\n",
       "      <th>lat</th>\n",
       "      <th>long</th>\n",
       "      <th>sqft_living15</th>\n",
       "      <th>sqft_lot15</th>\n",
       "      <th>logged sqft_living</th>\n",
       "    </tr>\n",
       "  </thead>\n",
       "  <tbody>\n",
       "    <tr>\n",
       "      <th>0</th>\n",
       "      <td>2487200875</td>\n",
       "      <td>20141209T000000</td>\n",
       "      <td>604000.0</td>\n",
       "      <td>4</td>\n",
       "      <td>3.00</td>\n",
       "      <td>1960</td>\n",
       "      <td>5000</td>\n",
       "      <td>1.0</td>\n",
       "      <td>0</td>\n",
       "      <td>0</td>\n",
       "      <td>...</td>\n",
       "      <td>1050</td>\n",
       "      <td>910</td>\n",
       "      <td>1965</td>\n",
       "      <td>0</td>\n",
       "      <td>98136</td>\n",
       "      <td>47.5208</td>\n",
       "      <td>-122.393</td>\n",
       "      <td>1360</td>\n",
       "      <td>5000</td>\n",
       "      <td>7.580700</td>\n",
       "    </tr>\n",
       "    <tr>\n",
       "      <th>1</th>\n",
       "      <td>7237550310</td>\n",
       "      <td>20140512T000000</td>\n",
       "      <td>1225000.0</td>\n",
       "      <td>4</td>\n",
       "      <td>4.50</td>\n",
       "      <td>5420</td>\n",
       "      <td>101930</td>\n",
       "      <td>1.0</td>\n",
       "      <td>0</td>\n",
       "      <td>0</td>\n",
       "      <td>...</td>\n",
       "      <td>3890</td>\n",
       "      <td>1530</td>\n",
       "      <td>2001</td>\n",
       "      <td>0</td>\n",
       "      <td>98053</td>\n",
       "      <td>47.6561</td>\n",
       "      <td>-122.005</td>\n",
       "      <td>4760</td>\n",
       "      <td>101930</td>\n",
       "      <td>8.597851</td>\n",
       "    </tr>\n",
       "    <tr>\n",
       "      <th>2</th>\n",
       "      <td>9212900260</td>\n",
       "      <td>20140527T000000</td>\n",
       "      <td>468000.0</td>\n",
       "      <td>2</td>\n",
       "      <td>1.00</td>\n",
       "      <td>1160</td>\n",
       "      <td>6000</td>\n",
       "      <td>1.0</td>\n",
       "      <td>0</td>\n",
       "      <td>0</td>\n",
       "      <td>...</td>\n",
       "      <td>860</td>\n",
       "      <td>300</td>\n",
       "      <td>1942</td>\n",
       "      <td>0</td>\n",
       "      <td>98115</td>\n",
       "      <td>47.6900</td>\n",
       "      <td>-122.292</td>\n",
       "      <td>1330</td>\n",
       "      <td>6000</td>\n",
       "      <td>7.056175</td>\n",
       "    </tr>\n",
       "    <tr>\n",
       "      <th>3</th>\n",
       "      <td>114101516</td>\n",
       "      <td>20140528T000000</td>\n",
       "      <td>310000.0</td>\n",
       "      <td>3</td>\n",
       "      <td>1.00</td>\n",
       "      <td>1430</td>\n",
       "      <td>19901</td>\n",
       "      <td>1.5</td>\n",
       "      <td>0</td>\n",
       "      <td>0</td>\n",
       "      <td>...</td>\n",
       "      <td>1430</td>\n",
       "      <td>0</td>\n",
       "      <td>1927</td>\n",
       "      <td>0</td>\n",
       "      <td>98028</td>\n",
       "      <td>47.7558</td>\n",
       "      <td>-122.229</td>\n",
       "      <td>1780</td>\n",
       "      <td>12697</td>\n",
       "      <td>7.265430</td>\n",
       "    </tr>\n",
       "    <tr>\n",
       "      <th>4</th>\n",
       "      <td>6054650070</td>\n",
       "      <td>20141007T000000</td>\n",
       "      <td>400000.0</td>\n",
       "      <td>3</td>\n",
       "      <td>1.75</td>\n",
       "      <td>1370</td>\n",
       "      <td>9680</td>\n",
       "      <td>1.0</td>\n",
       "      <td>0</td>\n",
       "      <td>0</td>\n",
       "      <td>...</td>\n",
       "      <td>1370</td>\n",
       "      <td>0</td>\n",
       "      <td>1977</td>\n",
       "      <td>0</td>\n",
       "      <td>98074</td>\n",
       "      <td>47.6127</td>\n",
       "      <td>-122.045</td>\n",
       "      <td>1370</td>\n",
       "      <td>10208</td>\n",
       "      <td>7.222566</td>\n",
       "    </tr>\n",
       "  </tbody>\n",
       "</table>\n",
       "<p>5 rows × 22 columns</p>\n",
       "</div>"
      ],
      "text/plain": [
       "           id             date      price  bedrooms  bathrooms  sqft_living  \\\n",
       "0  2487200875  20141209T000000   604000.0         4       3.00         1960   \n",
       "1  7237550310  20140512T000000  1225000.0         4       4.50         5420   \n",
       "2  9212900260  20140527T000000   468000.0         2       1.00         1160   \n",
       "3   114101516  20140528T000000   310000.0         3       1.00         1430   \n",
       "4  6054650070  20141007T000000   400000.0         3       1.75         1370   \n",
       "\n",
       "   sqft_lot  floors  waterfront  view  ...  sqft_above  sqft_basement  \\\n",
       "0      5000     1.0           0     0  ...        1050            910   \n",
       "1    101930     1.0           0     0  ...        3890           1530   \n",
       "2      6000     1.0           0     0  ...         860            300   \n",
       "3     19901     1.5           0     0  ...        1430              0   \n",
       "4      9680     1.0           0     0  ...        1370              0   \n",
       "\n",
       "   yr_built  yr_renovated  zipcode      lat     long  sqft_living15  \\\n",
       "0      1965             0    98136  47.5208 -122.393           1360   \n",
       "1      2001             0    98053  47.6561 -122.005           4760   \n",
       "2      1942             0    98115  47.6900 -122.292           1330   \n",
       "3      1927             0    98028  47.7558 -122.229           1780   \n",
       "4      1977             0    98074  47.6127 -122.045           1370   \n",
       "\n",
       "   sqft_lot15  logged sqft_living  \n",
       "0        5000            7.580700  \n",
       "1      101930            8.597851  \n",
       "2        6000            7.056175  \n",
       "3       12697            7.265430  \n",
       "4       10208            7.222566  \n",
       "\n",
       "[5 rows x 22 columns]"
      ]
     },
     "execution_count": 10,
     "metadata": {},
     "output_type": "execute_result"
    }
   ],
   "source": [
    "train_data['logged sqft_living']=np.log(train_data.sqft_living)\n",
    "train_data.head()"
   ]
  },
  {
   "cell_type": "markdown",
   "metadata": {},
   "source": [
    "### FEATURE SQFT_LIVING AFTER LOG TRANSFORMATION"
   ]
  },
  {
   "cell_type": "code",
   "execution_count": 15,
   "metadata": {},
   "outputs": [
    {
     "data": {
      "text/plain": [
       "<seaborn.axisgrid.FacetGrid at 0x1f00f2dc3a0>"
      ]
     },
     "execution_count": 15,
     "metadata": {},
     "output_type": "execute_result"
    },
    {
     "data": {
      "image/png": "[encoded data removed]",
      "text/plain": [
       "<Figure size 360x360 with 1 Axes>"
      ]
     },
     "metadata": {
      "needs_background": "light"
     },
     "output_type": "display_data"
    }
   ],
   "source": [
    "sns.displot(train_data['logged sqft_living'])"
   ]
  },
  {
   "cell_type": "markdown",
   "metadata": {},
   "source": [
    "### If we graph a distribution plot of living area sqft, we get a highly skewed representation of the data, as shown in the first plot above. While looking at our example, taking the log of price and sqft of living would rescale the coefficients into a normal distribution curve. This effectively changes the range of the data into a natural logarithm."
   ]
  },
  {
   "cell_type": "code",
   "execution_count": 97,
   "metadata": {},
   "outputs": [
    {
     "name": "stdout",
     "output_type": "stream",
     "text": [
      "The rmse value is 0.2601455649234396\n",
      "The R square value is 0.7581453825363675\n"
     ]
    }
   ],
   "source": [
    "x_train = train_data[['logged sqft_living','bedrooms', 'bathrooms', 'grade', 'view', 'waterfront', 'lat', 'yr_built']]\n",
    "y_train = train_data[\"logged price\"]\n",
    "\n",
    "model4 = LinearRegression()\n",
    "score1 = cross_val_score(model4, x_train, y_train, cv=10, scoring='r2')\n",
    "score2 = cross_val_score(model4, x_train, y_train, cv=10, scoring='neg_root_mean_squared_error')\n",
    "print('The rmse value is',np.abs(score2.mean()))\n",
    "print('The R square value is',score1.mean())\n"
   ]
  },
  {
   "cell_type": "markdown",
   "metadata": {},
   "source": [
    "### We have fitted the best performing model (Model 3) with the new variables i.e. log transformed variables ('price' and 'sqft_living'. We can see that the performance of the model is improved significantly. Therefore, we conclude that the log transformation of variables has improved the performance of our model."
   ]
  },
  {
   "cell_type": "markdown",
   "metadata": {},
   "source": [
    "### 2. CREATING A NEW VARIABLE"
   ]
  },
  {
   "cell_type": "markdown",
   "metadata": {},
   "source": [
    "#### => CREATING TWO NEW VARIABLES FROM DATE :- YEAR OF SELLING AND MONTH OF SELLING"
   ]
  },
  {
   "cell_type": "code",
   "execution_count": 96,
   "metadata": {},
   "outputs": [
    {
     "data": {
      "text/html": [
       "<div>\n",
       "<style scoped>\n",
       "    .dataframe tbody tr th:only-of-type {\n",
       "        vertical-align: middle;\n",
       "    }\n",
       "\n",
       "    .dataframe tbody tr th {\n",
       "        vertical-align: top;\n",
       "    }\n",
       "\n",
       "    .dataframe thead th {\n",
       "        text-align: right;\n",
       "    }\n",
       "</style>\n",
       "<table border=\"1\" class=\"dataframe\">\n",
       "  <thead>\n",
       "    <tr style=\"text-align: right;\">\n",
       "      <th></th>\n",
       "      <th>year of selling</th>\n",
       "    </tr>\n",
       "  </thead>\n",
       "  <tbody>\n",
       "    <tr>\n",
       "      <th>0</th>\n",
       "      <td>2014</td>\n",
       "    </tr>\n",
       "    <tr>\n",
       "      <th>1</th>\n",
       "      <td>2014</td>\n",
       "    </tr>\n",
       "    <tr>\n",
       "      <th>2</th>\n",
       "      <td>2014</td>\n",
       "    </tr>\n",
       "    <tr>\n",
       "      <th>3</th>\n",
       "      <td>2014</td>\n",
       "    </tr>\n",
       "    <tr>\n",
       "      <th>4</th>\n",
       "      <td>2014</td>\n",
       "    </tr>\n",
       "    <tr>\n",
       "      <th>...</th>\n",
       "      <td>...</td>\n",
       "    </tr>\n",
       "    <tr>\n",
       "      <th>9756</th>\n",
       "      <td>2015</td>\n",
       "    </tr>\n",
       "    <tr>\n",
       "      <th>9757</th>\n",
       "      <td>2014</td>\n",
       "    </tr>\n",
       "    <tr>\n",
       "      <th>9758</th>\n",
       "      <td>2015</td>\n",
       "    </tr>\n",
       "    <tr>\n",
       "      <th>9759</th>\n",
       "      <td>2014</td>\n",
       "    </tr>\n",
       "    <tr>\n",
       "      <th>9760</th>\n",
       "      <td>2014</td>\n",
       "    </tr>\n",
       "  </tbody>\n",
       "</table>\n",
       "<p>9761 rows × 1 columns</p>\n",
       "</div>"
      ],
      "text/plain": [
       "      year of selling\n",
       "0                2014\n",
       "1                2014\n",
       "2                2014\n",
       "3                2014\n",
       "4                2014\n",
       "...               ...\n",
       "9756             2015\n",
       "9757             2014\n",
       "9758             2015\n",
       "9759             2014\n",
       "9760             2014\n",
       "\n",
       "[9761 rows x 1 columns]"
      ]
     },
     "execution_count": 96,
     "metadata": {},
     "output_type": "execute_result"
    }
   ],
   "source": [
    "train_data['year of selling'] = pd.DatetimeIndex(train_data['date']).year\n",
    "train_data[['year of selling']]"
   ]
  },
  {
   "cell_type": "markdown",
   "metadata": {},
   "source": [
    "### Training the model by adding the year of selling feature"
   ]
  },
  {
   "cell_type": "code",
   "execution_count": 54,
   "metadata": {},
   "outputs": [
    {
     "name": "stdout",
     "output_type": "stream",
     "text": [
      "The rmse value is 0.25932052428757724\n",
      "The R square value is 0.7596889239095763\n"
     ]
    }
   ],
   "source": [
    "x_train = train_data[['logged sqft_living','bedrooms', 'bathrooms', 'grade', 'view', 'waterfront', 'lat', 'yr_built','year of selling']]\n",
    "y_train = train_data[\"logged price\"]\n",
    "\n",
    "model5 = LinearRegression()\n",
    "score1 = cross_val_score(model5, x_train, y_train, cv=10, scoring='r2')\n",
    "score2 = cross_val_score(model5, x_train, y_train, cv=10, scoring='neg_root_mean_squared_error')\n",
    "print('The rmse value is',np.abs(score2.mean()))\n",
    "print('The R square value is',score1.mean())"
   ]
  },
  {
   "cell_type": "markdown",
   "metadata": {},
   "source": [
    "### The r square value doesnt seem much increasing compared to model 4"
   ]
  },
  {
   "cell_type": "markdown",
   "metadata": {},
   "source": [
    "### => Creating a new variable age of the house"
   ]
  },
  {
   "cell_type": "code",
   "execution_count": 19,
   "metadata": {
    "scrolled": true
   },
   "outputs": [
    {
     "data": {
      "text/html": [
       "<div>\n",
       "<style scoped>\n",
       "    .dataframe tbody tr th:only-of-type {\n",
       "        vertical-align: middle;\n",
       "    }\n",
       "\n",
       "    .dataframe tbody tr th {\n",
       "        vertical-align: top;\n",
       "    }\n",
       "\n",
       "    .dataframe thead th {\n",
       "        text-align: right;\n",
       "    }\n",
       "</style>\n",
       "<table border=\"1\" class=\"dataframe\">\n",
       "  <thead>\n",
       "    <tr style=\"text-align: right;\">\n",
       "      <th></th>\n",
       "      <th>id</th>\n",
       "      <th>date</th>\n",
       "      <th>price</th>\n",
       "      <th>bedrooms</th>\n",
       "      <th>bathrooms</th>\n",
       "      <th>sqft_living</th>\n",
       "      <th>sqft_lot</th>\n",
       "      <th>floors</th>\n",
       "      <th>waterfront</th>\n",
       "      <th>view</th>\n",
       "      <th>...</th>\n",
       "      <th>zipcode</th>\n",
       "      <th>lat</th>\n",
       "      <th>long</th>\n",
       "      <th>sqft_living15</th>\n",
       "      <th>sqft_lot15</th>\n",
       "      <th>logged sqft_living</th>\n",
       "      <th>logged price</th>\n",
       "      <th>year of selling</th>\n",
       "      <th>month of selling</th>\n",
       "      <th>age</th>\n",
       "    </tr>\n",
       "  </thead>\n",
       "  <tbody>\n",
       "    <tr>\n",
       "      <th>0</th>\n",
       "      <td>2487200875</td>\n",
       "      <td>20141209T000000</td>\n",
       "      <td>604000.0</td>\n",
       "      <td>4</td>\n",
       "      <td>3.00</td>\n",
       "      <td>1960</td>\n",
       "      <td>5000</td>\n",
       "      <td>1.0</td>\n",
       "      <td>0</td>\n",
       "      <td>0</td>\n",
       "      <td>...</td>\n",
       "      <td>98136</td>\n",
       "      <td>47.5208</td>\n",
       "      <td>-122.393</td>\n",
       "      <td>1360</td>\n",
       "      <td>5000</td>\n",
       "      <td>7.580700</td>\n",
       "      <td>13.311329</td>\n",
       "      <td>2014</td>\n",
       "      <td>12</td>\n",
       "      <td>49</td>\n",
       "    </tr>\n",
       "    <tr>\n",
       "      <th>1</th>\n",
       "      <td>7237550310</td>\n",
       "      <td>20140512T000000</td>\n",
       "      <td>1225000.0</td>\n",
       "      <td>4</td>\n",
       "      <td>4.50</td>\n",
       "      <td>5420</td>\n",
       "      <td>101930</td>\n",
       "      <td>1.0</td>\n",
       "      <td>0</td>\n",
       "      <td>0</td>\n",
       "      <td>...</td>\n",
       "      <td>98053</td>\n",
       "      <td>47.6561</td>\n",
       "      <td>-122.005</td>\n",
       "      <td>4760</td>\n",
       "      <td>101930</td>\n",
       "      <td>8.597851</td>\n",
       "      <td>14.018451</td>\n",
       "      <td>2014</td>\n",
       "      <td>5</td>\n",
       "      <td>13</td>\n",
       "    </tr>\n",
       "    <tr>\n",
       "      <th>2</th>\n",
       "      <td>9212900260</td>\n",
       "      <td>20140527T000000</td>\n",
       "      <td>468000.0</td>\n",
       "      <td>2</td>\n",
       "      <td>1.00</td>\n",
       "      <td>1160</td>\n",
       "      <td>6000</td>\n",
       "      <td>1.0</td>\n",
       "      <td>0</td>\n",
       "      <td>0</td>\n",
       "      <td>...</td>\n",
       "      <td>98115</td>\n",
       "      <td>47.6900</td>\n",
       "      <td>-122.292</td>\n",
       "      <td>1330</td>\n",
       "      <td>6000</td>\n",
       "      <td>7.056175</td>\n",
       "      <td>13.056224</td>\n",
       "      <td>2014</td>\n",
       "      <td>5</td>\n",
       "      <td>72</td>\n",
       "    </tr>\n",
       "    <tr>\n",
       "      <th>3</th>\n",
       "      <td>114101516</td>\n",
       "      <td>20140528T000000</td>\n",
       "      <td>310000.0</td>\n",
       "      <td>3</td>\n",
       "      <td>1.00</td>\n",
       "      <td>1430</td>\n",
       "      <td>19901</td>\n",
       "      <td>1.5</td>\n",
       "      <td>0</td>\n",
       "      <td>0</td>\n",
       "      <td>...</td>\n",
       "      <td>98028</td>\n",
       "      <td>47.7558</td>\n",
       "      <td>-122.229</td>\n",
       "      <td>1780</td>\n",
       "      <td>12697</td>\n",
       "      <td>7.265430</td>\n",
       "      <td>12.644328</td>\n",
       "      <td>2014</td>\n",
       "      <td>5</td>\n",
       "      <td>87</td>\n",
       "    </tr>\n",
       "    <tr>\n",
       "      <th>4</th>\n",
       "      <td>6054650070</td>\n",
       "      <td>20141007T000000</td>\n",
       "      <td>400000.0</td>\n",
       "      <td>3</td>\n",
       "      <td>1.75</td>\n",
       "      <td>1370</td>\n",
       "      <td>9680</td>\n",
       "      <td>1.0</td>\n",
       "      <td>0</td>\n",
       "      <td>0</td>\n",
       "      <td>...</td>\n",
       "      <td>98074</td>\n",
       "      <td>47.6127</td>\n",
       "      <td>-122.045</td>\n",
       "      <td>1370</td>\n",
       "      <td>10208</td>\n",
       "      <td>7.222566</td>\n",
       "      <td>12.899220</td>\n",
       "      <td>2014</td>\n",
       "      <td>10</td>\n",
       "      <td>37</td>\n",
       "    </tr>\n",
       "  </tbody>\n",
       "</table>\n",
       "<p>5 rows × 26 columns</p>\n",
       "</div>"
      ],
      "text/plain": [
       "           id             date      price  bedrooms  bathrooms  sqft_living  \\\n",
       "0  2487200875  20141209T000000   604000.0         4       3.00         1960   \n",
       "1  7237550310  20140512T000000  1225000.0         4       4.50         5420   \n",
       "2  9212900260  20140527T000000   468000.0         2       1.00         1160   \n",
       "3   114101516  20140528T000000   310000.0         3       1.00         1430   \n",
       "4  6054650070  20141007T000000   400000.0         3       1.75         1370   \n",
       "\n",
       "   sqft_lot  floors  waterfront  view  ...  zipcode      lat     long  \\\n",
       "0      5000     1.0           0     0  ...    98136  47.5208 -122.393   \n",
       "1    101930     1.0           0     0  ...    98053  47.6561 -122.005   \n",
       "2      6000     1.0           0     0  ...    98115  47.6900 -122.292   \n",
       "3     19901     1.5           0     0  ...    98028  47.7558 -122.229   \n",
       "4      9680     1.0           0     0  ...    98074  47.6127 -122.045   \n",
       "\n",
       "   sqft_living15  sqft_lot15  logged sqft_living  logged price  \\\n",
       "0           1360        5000            7.580700     13.311329   \n",
       "1           4760      101930            8.597851     14.018451   \n",
       "2           1330        6000            7.056175     13.056224   \n",
       "3           1780       12697            7.265430     12.644328   \n",
       "4           1370       10208            7.222566     12.899220   \n",
       "\n",
       "   year of selling  month of selling  age  \n",
       "0             2014                12   49  \n",
       "1             2014                 5   13  \n",
       "2             2014                 5   72  \n",
       "3             2014                 5   87  \n",
       "4             2014                10   37  \n",
       "\n",
       "[5 rows x 26 columns]"
      ]
     },
     "execution_count": 19,
     "metadata": {},
     "output_type": "execute_result"
    }
   ],
   "source": [
    "train_data['age']=train_data['year of selling'] - train_data.yr_built\n",
    "train_data.head()"
   ]
  },
  {
   "cell_type": "markdown",
   "metadata": {},
   "source": [
    "### Adding feature age to the above model"
   ]
  },
  {
   "cell_type": "code",
   "execution_count": 55,
   "metadata": {},
   "outputs": [
    {
     "name": "stdout",
     "output_type": "stream",
     "text": [
      "The rmse value is 0.25932052428757524\n",
      "The R square value is 0.7596889239095805\n"
     ]
    }
   ],
   "source": [
    "x_train = train_data[['logged sqft_living','bedrooms', 'bathrooms', 'grade', 'view', 'waterfront', 'lat', 'yr_built', 'age']]\n",
    "y_train = train_data[\"logged price\"]\n",
    "\n",
    "model6 = LinearRegression()\n",
    "score1 = cross_val_score(model6, x_train, y_train, cv=10, scoring='r2')\n",
    "score2 = cross_val_score(model6, x_train, y_train, cv=10, scoring='neg_root_mean_squared_error')\n",
    "print('The rmse value is',np.abs(score2.mean()))\n",
    "print('The R square value is',score1.mean())\n"
   ]
  },
  {
   "cell_type": "markdown",
   "metadata": {},
   "source": [
    "### The r square value doesnt seem much increasing compared to model 4 and 5"
   ]
  },
  {
   "cell_type": "markdown",
   "metadata": {},
   "source": [
    "### FORWARD SELECTION"
   ]
  },
  {
   "cell_type": "markdown",
   "metadata": {},
   "source": [
    "### n feature is set as 11 ,since after that feature addition there is no much increase in the r square value\n"
   ]
  },
  {
   "cell_type": "markdown",
   "metadata": {},
   "source": [
    "### The True value specifies that those predictors are selected in the forward selection process"
   ]
  },
  {
   "cell_type": "code",
   "execution_count": null,
   "metadata": {},
   "outputs": [],
   "source": [
    "X_train=train_data.drop(['id','date','price','logged price'],axis='columns')\n",
    "y_train=train_data['logged price']\n",
    "from sklearn.feature_selection import SequentialFeatureSelector\n",
    "sfs = SequentialFeatureSelector(model5, n_features_to_select=11)\n",
    "sfs.fit(X_train, y_train)"
   ]
  },
  {
   "cell_type": "code",
   "execution_count": 46,
   "metadata": {},
   "outputs": [
    {
     "data": {
      "text/plain": [
       "array([False,  True,  True, False,  True,  True,  True,  True,  True,\n",
       "       False, False,  True, False, False,  True, False,  True, False,\n",
       "       False,  True, False])"
      ]
     },
     "execution_count": 46,
     "metadata": {},
     "output_type": "execute_result"
    }
   ],
   "source": [
    "sfs.get_support()"
   ]
  },
  {
   "cell_type": "markdown",
   "metadata": {},
   "source": [
    "### Reading the data and assigning those selected predictors and target feature\n"
   ]
  },
  {
   "cell_type": "code",
   "execution_count": 74,
   "metadata": {},
   "outputs": [],
   "source": []
  },
  {
   "cell_type": "markdown",
   "metadata": {},
   "source": [
    "### Calculating the R sqaure value using cross validation for those selected predictors"
   ]
  },
  {
   "cell_type": "code",
   "execution_count": 31,
   "metadata": {
    "scrolled": true
   },
   "outputs": [
    {
     "name": "stdout",
     "output_type": "stream",
     "text": [
      "The rmse value is 0.2542587928165093\n",
      "The R square value is 0.7688448933596546\n"
     ]
    }
   ],
   "source": [
    "x=train_data[['bathrooms','sqft_living','view','condition','grade','yr_built','lat','sqft_living15','floors','waterfront','year of selling']]\n",
    "y=train_data['logged price']\n",
    "model7=LinearRegression()\n",
    "score1 = cross_val_score(model7, x, y, cv=10, scoring='r2')\n",
    "score2 = cross_val_score(model7, x, y, cv=10, scoring='neg_root_mean_squared_error')\n",
    "print('The rmse value is',np.abs(score2.mean()))\n",
    "print('The R square value is',score1.mean())"
   ]
  },
  {
   "cell_type": "markdown",
   "metadata": {},
   "source": [
    "### Calculating the RMSE for those predictors"
   ]
  },
  {
   "cell_type": "code",
   "execution_count": 32,
   "metadata": {},
   "outputs": [
    {
     "data": {
      "text/plain": [
       "0.2542587928165093"
      ]
     },
     "execution_count": 32,
     "metadata": {},
     "output_type": "execute_result"
    }
   ],
   "source": [
    "scores = cross_val_score(model5, x, y, cv=10, scoring='neg_root_mean_squared_error')\n",
    "a=np.abs(scores.mean())\n",
    "a"
   ]
  },
  {
   "cell_type": "code",
   "execution_count": null,
   "metadata": {},
   "outputs": [],
   "source": []
  },
  {
   "cell_type": "markdown",
   "metadata": {},
   "source": [
    "### DECISION TREE\n",
    "### For all the previous models which we did using linear regression , we are just try decision tree model for those set of predictors in each respective model"
   ]
  },
  {
   "cell_type": "markdown",
   "metadata": {},
   "source": [
    "### DECISION TREE FOR MODEL 1"
   ]
  },
  {
   "cell_type": "code",
   "execution_count": 65,
   "metadata": {},
   "outputs": [
    {
     "name": "stdout",
     "output_type": "stream",
     "text": [
      "The rmse score is 240334.08486673803\n",
      "The R square value is 0.5894807726526724\n",
      "The perfect min_samples leaf value is 3\n",
      "The perfect max_depth value is 6\n"
     ]
    }
   ],
   "source": [
    "X_train = train_data[['sqft_living', 'grade', 'bathrooms', 'view']]\n",
    "y_train = train_data[\"price\"]\n",
    "rmsescore=[]\n",
    "r2score=[]\n",
    "index=[]\n",
    "for i in range(1,7):             # taking range between 1 to 7 for min_samples leaf        \n",
    "    for j in range(1,7):         # taking range between 1 to 7 for max depth\n",
    "        model1=DecisionTreeRegressor(min_samples_leaf=i,max_depth=j)\n",
    "        score1=cross_val_score(model1,X_train,y_train,cv=10,scoring='neg_root_mean_squared_error')\n",
    "        score2=cross_val_score(model1,X_train,y_train,cv=10,scoring='r2')\n",
    "        index.append([i,j])           # appending the pair values of min samplesleaf and max depth\n",
    "        rmsescore.append((np.abs(score1)).mean())\n",
    "        r2score.append(score2.mean())\n",
    "rmsevalue=rmsescore.index(min(rmsescore))\n",
    "r2value=max(r2score)\n",
    "index=index[rmsevalue]                  # indexing the pair which produced the minimum error\n",
    "        \n",
    "print(\"The rmse score is\",min(rmsescore))\n",
    "print('The R square value is',r2value)\n",
    "print(\"The perfect min_samples leaf value is\",index[0])\n",
    "print(\"The perfect max_depth value is\",index[1])\n",
    "        "
   ]
  },
  {
   "cell_type": "markdown",
   "metadata": {},
   "source": [
    "### DECISION TREE FOR MODEL 2"
   ]
  },
  {
   "cell_type": "code",
   "execution_count": 66,
   "metadata": {},
   "outputs": [
    {
     "name": "stdout",
     "output_type": "stream",
     "text": [
      "The rmse score is 234579.78687368444\n",
      "The R square value is 0.6084880840310758\n",
      "The perfect min_samples leaf value is 2\n",
      "The perfect max_depth value is 6\n"
     ]
    }
   ],
   "source": [
    "X_train = train_data[['sqft_living', 'bedrooms', 'bathrooms', 'grade', 'view', 'waterfront']]\n",
    "y_train = train_data[\"price\"]\n",
    "\n",
    "rmsescore=[]\n",
    "r2score=[]\n",
    "index=[]\n",
    "for i in range(1,7):             # taking range between 1 to 7 for min_samples leaf        \n",
    "    for j in range(1,7):         # taking range between 1 to 7 for max depth\n",
    "        model2=DecisionTreeRegressor(min_samples_leaf=i,max_depth=j)\n",
    "        score1=cross_val_score(model2,X_train,y_train,cv=10,scoring='neg_root_mean_squared_error')\n",
    "        score2=cross_val_score(model2,X_train,y_train,cv=10,scoring='r2')\n",
    "        index.append([i,j])           # appending the pair values of min samplesleaf and max depth\n",
    "        rmsescore.append((np.abs(score1)).mean())\n",
    "        r2score.append(score2.mean())\n",
    "rmsevalue=rmsescore.index(min(rmsescore))\n",
    "r2value=max(r2score)\n",
    "index=index[rmsevalue]                  # indexing the pair which produced the minimum error\n",
    "        \n",
    "print(\"The rmse score is\",min(rmsescore))\n",
    "print('The R square value is',r2value)\n",
    "print(\"The perfect min_samples leaf value is\",index[0])\n",
    "print(\"The perfect max_depth value is\",index[1])"
   ]
  },
  {
   "cell_type": "markdown",
   "metadata": {},
   "source": [
    "### DECISION TREE FOR MODEL 3"
   ]
  },
  {
   "cell_type": "code",
   "execution_count": 67,
   "metadata": {},
   "outputs": [
    {
     "name": "stdout",
     "output_type": "stream",
     "text": [
      "The rmse score is 207481.6123307354\n",
      "The R square value is 0.693874597169353\n",
      "The perfect min_samples leaf value is 6\n",
      "The perfect max_depth value is 6\n"
     ]
    }
   ],
   "source": [
    "X_train = train_data[['sqft_living', 'bedrooms', 'bathrooms', 'grade', 'view', 'waterfront', 'lat', 'yr_built']]\n",
    "y_train = train_data[\"price\"]\n",
    "\n",
    "\n",
    "rmsescore=[]\n",
    "r2score=[]\n",
    "index=[]\n",
    "for i in range(1,7):             # taking range between 1 to 7 for min_samples leaf        \n",
    "    for j in range(1,7):         # taking range between 1 to 7 for max depth\n",
    "        model3=DecisionTreeRegressor(min_samples_leaf=i,max_depth=j)\n",
    "        score1=cross_val_score(model3,X_train,y_train,cv=10,scoring='neg_root_mean_squared_error')\n",
    "        score2=cross_val_score(model3,X_train,y_train,cv=10,scoring='r2')\n",
    "        index.append([i,j])           # appending the pair values of min samplesleaf and max depth\n",
    "        rmsescore.append((np.abs(score1)).mean())\n",
    "        r2score.append(score2.mean())\n",
    "rmsevalue=rmsescore.index(min(rmsescore))\n",
    "r2value=max(r2score)\n",
    "index=index[rmsevalue]                  # indexing the pair which produced the minimum error\n",
    "        \n",
    "print(\"The rmse score is\",min(rmsescore))\n",
    "print('The R square value is',r2value)\n",
    "print(\"The perfect min_samples leaf value is\",index[0])\n",
    "print(\"The perfect max_depth value is\",index[1])\n"
   ]
  },
  {
   "cell_type": "markdown",
   "metadata": {},
   "source": [
    "### DECISION TREE FOR MODEL 4"
   ]
  },
  {
   "cell_type": "code",
   "execution_count": 72,
   "metadata": {},
   "outputs": [
    {
     "name": "stdout",
     "output_type": "stream",
     "text": [
      "The rmse score is 0.2527591937151554\n",
      "The R square value is 0.7717663313117401\n",
      "The perfect min_samples leaf value is 4\n",
      "The perfect max_depth value is 6\n"
     ]
    }
   ],
   "source": [
    "X_train = train_data[['logged sqft_living','bedrooms', 'bathrooms', 'grade', 'view', 'waterfront', 'lat', 'yr_built']]\n",
    "y_train = train_data[\"logged price\"]\n",
    "\n",
    "rmsescore=[]\n",
    "r2score=[]\n",
    "index=[]\n",
    "for i in range(1,7):             # taking range between 1 to 7 for min_samples leaf        \n",
    "    for j in range(1,7):         # taking range between 1 to 7 for max depth\n",
    "        model4=DecisionTreeRegressor(min_samples_leaf=i,max_depth=j)\n",
    "        score1=cross_val_score(model4,X_train,y_train,cv=10,scoring='neg_root_mean_squared_error')\n",
    "        score2=cross_val_score(model4,X_train,y_train,cv=10,scoring='r2')\n",
    "        index.append([i,j])           # appending the pair values of min samplesleaf and max depth\n",
    "        rmsescore.append((np.abs(score1)).mean())\n",
    "        r2score.append(score2.mean())\n",
    "rmsevalue=rmsescore.index(min(rmsescore))\n",
    "r2value=max(r2score)\n",
    "index=index[rmsevalue]                  # indexing the pair which produced the minimum error\n",
    "        \n",
    "print(\"The rmse score is\",min(rmsescore))\n",
    "print('The R square value is',r2value)\n",
    "print(\"The perfect min_samples leaf value is\",index[0])\n",
    "print(\"The perfect max_depth value is\",index[1])\n"
   ]
  },
  {
   "cell_type": "markdown",
   "metadata": {},
   "source": [
    "### DECISION TREE FOR MODEL 5"
   ]
  },
  {
   "cell_type": "code",
   "execution_count": 73,
   "metadata": {},
   "outputs": [
    {
     "name": "stdout",
     "output_type": "stream",
     "text": [
      "The rmse score is 0.2528071922482996\n",
      "The R square value is 0.7716821156899105\n",
      "The perfect min_samples leaf value is 4\n",
      "The perfect max_depth value is 6\n"
     ]
    }
   ],
   "source": [
    "X_train = train_data[['logged sqft_living','bedrooms', 'bathrooms', 'grade', 'view', 'waterfront', 'lat', 'yr_built','year of selling']]\n",
    "y_train = train_data[\"logged price\"]\n",
    "rmsescore=[]\n",
    "r2score=[]\n",
    "index=[]\n",
    "for i in range(1,7):             # taking range between 1 to 7 for min_samples leaf        \n",
    "    for j in range(1,7):         # taking range between 1 to 7 for max depth\n",
    "        model5=DecisionTreeRegressor(min_samples_leaf=i,max_depth=j)\n",
    "        score1=cross_val_score(model5,X_train,y_train,cv=10,scoring='neg_root_mean_squared_error')\n",
    "        score2=cross_val_score(model5,X_train,y_train,cv=10,scoring='r2')\n",
    "        index.append([i,j])           # appending the pair values of min samplesleaf and max depth\n",
    "        rmsescore.append((np.abs(score1)).mean())\n",
    "        r2score.append(score2.mean())\n",
    "rmsevalue=rmsescore.index(min(rmsescore))\n",
    "r2value=max(r2score)\n",
    "index=index[rmsevalue]                  # indexing the pair which produced the minimum error\n",
    "        \n",
    "print(\"The rmse score is\",min(rmsescore))\n",
    "print('The R square value is',r2value)\n",
    "print(\"The perfect min_samples leaf value is\",index[0])\n",
    "print(\"The perfect max_depth value is\",index[1])\n",
    "\n",
    "\n"
   ]
  },
  {
   "cell_type": "markdown",
   "metadata": {},
   "source": [
    "### DECISION TREE FOR MODEL 6"
   ]
  },
  {
   "cell_type": "code",
   "execution_count": 70,
   "metadata": {},
   "outputs": [
    {
     "name": "stdout",
     "output_type": "stream",
     "text": [
      "The rmse score is 0.25300707217256246\n",
      "The R square value is 0.7713323606889653\n",
      "The perfect min_samples leaf value is 4\n",
      "The perfect max_depth value is 6\n"
     ]
    }
   ],
   "source": [
    "X_train = train_data[['logged sqft_living','bedrooms', 'bathrooms', 'grade', 'view', 'waterfront', 'lat', 'yr_built','age']]\n",
    "y_train = train_data[\"logged price\"]\n",
    "\n",
    "rmsescore=[]\n",
    "r2score=[]\n",
    "index=[]\n",
    "for i in range(1,7):             # taking range between 1 to 7 for min_samples leaf        \n",
    "    for j in range(1,7):         # taking range between 1 to 7 for max depth\n",
    "        model6=DecisionTreeRegressor(min_samples_leaf=i,max_depth=j)\n",
    "        score1=cross_val_score(model6,X_train,y_train,cv=10,scoring='neg_root_mean_squared_error')\n",
    "        score2=cross_val_score(model6,X_train,y_train,cv=10,scoring='r2')\n",
    "        index.append([i,j])           # appending the pair values of min samplesleaf and max depth\n",
    "        rmsescore.append((np.abs(score1)).mean())\n",
    "        r2score.append(score2.mean())\n",
    "rmsevalue=rmsescore.index(min(rmsescore))\n",
    "r2value=max(r2score)\n",
    "index=index[rmsevalue]                  # indexing the pair which produced the minimum error\n",
    "        \n",
    "print(\"The rmse score is\",min(rmsescore))\n",
    "print('The R square value is',r2value)\n",
    "print(\"The perfect min_samples leaf value is\",index[0])\n",
    "print(\"The perfect max_depth value is\",index[1])\n"
   ]
  },
  {
   "cell_type": "markdown",
   "metadata": {},
   "source": [
    "### DECISION TREE FOR MODEL 7"
   ]
  },
  {
   "cell_type": "code",
   "execution_count": 92,
   "metadata": {},
   "outputs": [
    {
     "name": "stdout",
     "output_type": "stream",
     "text": [
      "The rmse score is 0.25293687360458006\n",
      "The R square value is 0.7714051020347125\n",
      "The perfect min_samples leaf value is 4\n",
      "The perfect max_depth value is 6\n"
     ]
    }
   ],
   "source": [
    "X_train=train_data[['bathrooms','sqft_living','view','condition','grade','yr_built','lat','sqft_living15','floors','waterfront','year of selling']]\n",
    "y_train=train_data['logged price']\n",
    "\n",
    "rmsescore=[]\n",
    "r2score=[]\n",
    "index=[]\n",
    "for i in range(1,7):             # taking range between 1 to 7 for min_samples leaf        \n",
    "    for j in range(1,7):         # taking range between 1 to 7 for max depth\n",
    "        model7=DecisionTreeRegressor(min_samples_leaf=i,max_depth=j)\n",
    "        score1=cross_val_score(model7,X_train,y_train,cv=10,scoring='neg_root_mean_squared_error')\n",
    "        score2=cross_val_score(model7,X_train,y_train,cv=10,scoring='r2')\n",
    "        index.append([i,j])           # appending the pair values of min samplesleaf and max depth\n",
    "        rmsescore.append((np.abs(score1)).mean())\n",
    "        r2score.append(score2.mean())\n",
    "rmsevalue=rmsescore.index(min(rmsescore))\n",
    "r2value=max(r2score)\n",
    "index=index[rmsevalue]                  # indexing the pair which produced the minimum error\n",
    "        \n",
    "print(\"The rmse score is\",min(rmsescore))\n",
    "print('The R square value is',r2value)\n",
    "print(\"The perfect min_samples leaf value is\",index[0])\n",
    "print(\"The perfect max_depth value is\",index[1])\n"
   ]
  },
  {
   "cell_type": "code",
   "execution_count": null,
   "metadata": {},
   "outputs": [],
   "source": []
  },
  {
   "cell_type": "markdown",
   "metadata": {},
   "source": [
    "# Testing :-"
   ]
  },
  {
   "cell_type": "code",
   "execution_count": 74,
   "metadata": {},
   "outputs": [
    {
     "data": {
      "text/html": [
       "<div>\n",
       "<style scoped>\n",
       "    .dataframe tbody tr th:only-of-type {\n",
       "        vertical-align: middle;\n",
       "    }\n",
       "\n",
       "    .dataframe tbody tr th {\n",
       "        vertical-align: top;\n",
       "    }\n",
       "\n",
       "    .dataframe thead th {\n",
       "        text-align: right;\n",
       "    }\n",
       "</style>\n",
       "<table border=\"1\" class=\"dataframe\">\n",
       "  <thead>\n",
       "    <tr style=\"text-align: right;\">\n",
       "      <th></th>\n",
       "      <th>id</th>\n",
       "      <th>date</th>\n",
       "      <th>price</th>\n",
       "      <th>bedrooms</th>\n",
       "      <th>bathrooms</th>\n",
       "      <th>sqft_living</th>\n",
       "      <th>sqft_lot</th>\n",
       "      <th>floors</th>\n",
       "      <th>waterfront</th>\n",
       "      <th>view</th>\n",
       "      <th>...</th>\n",
       "      <th>grade</th>\n",
       "      <th>sqft_above</th>\n",
       "      <th>sqft_basement</th>\n",
       "      <th>yr_built</th>\n",
       "      <th>yr_renovated</th>\n",
       "      <th>zipcode</th>\n",
       "      <th>lat</th>\n",
       "      <th>long</th>\n",
       "      <th>sqft_living15</th>\n",
       "      <th>sqft_lot15</th>\n",
       "    </tr>\n",
       "  </thead>\n",
       "  <tbody>\n",
       "    <tr>\n",
       "      <th>0</th>\n",
       "      <td>3793500160</td>\n",
       "      <td>20150312T000000</td>\n",
       "      <td>323000.0</td>\n",
       "      <td>3</td>\n",
       "      <td>2.50</td>\n",
       "      <td>1890</td>\n",
       "      <td>6560</td>\n",
       "      <td>2.0</td>\n",
       "      <td>0</td>\n",
       "      <td>0</td>\n",
       "      <td>...</td>\n",
       "      <td>7</td>\n",
       "      <td>1890</td>\n",
       "      <td>0</td>\n",
       "      <td>2003</td>\n",
       "      <td>0</td>\n",
       "      <td>98038</td>\n",
       "      <td>47.3684</td>\n",
       "      <td>-122.031</td>\n",
       "      <td>2390</td>\n",
       "      <td>7570</td>\n",
       "    </tr>\n",
       "    <tr>\n",
       "      <th>1</th>\n",
       "      <td>1175000570</td>\n",
       "      <td>20150312T000000</td>\n",
       "      <td>530000.0</td>\n",
       "      <td>5</td>\n",
       "      <td>2.00</td>\n",
       "      <td>1810</td>\n",
       "      <td>4850</td>\n",
       "      <td>1.5</td>\n",
       "      <td>0</td>\n",
       "      <td>0</td>\n",
       "      <td>...</td>\n",
       "      <td>7</td>\n",
       "      <td>1810</td>\n",
       "      <td>0</td>\n",
       "      <td>1900</td>\n",
       "      <td>0</td>\n",
       "      <td>98107</td>\n",
       "      <td>47.6700</td>\n",
       "      <td>-122.394</td>\n",
       "      <td>1360</td>\n",
       "      <td>4850</td>\n",
       "    </tr>\n",
       "    <tr>\n",
       "      <th>2</th>\n",
       "      <td>16000397</td>\n",
       "      <td>20141205T000000</td>\n",
       "      <td>189000.0</td>\n",
       "      <td>2</td>\n",
       "      <td>1.00</td>\n",
       "      <td>1200</td>\n",
       "      <td>9850</td>\n",
       "      <td>1.0</td>\n",
       "      <td>0</td>\n",
       "      <td>0</td>\n",
       "      <td>...</td>\n",
       "      <td>7</td>\n",
       "      <td>1200</td>\n",
       "      <td>0</td>\n",
       "      <td>1921</td>\n",
       "      <td>0</td>\n",
       "      <td>98002</td>\n",
       "      <td>47.3089</td>\n",
       "      <td>-122.210</td>\n",
       "      <td>1060</td>\n",
       "      <td>5095</td>\n",
       "    </tr>\n",
       "    <tr>\n",
       "      <th>3</th>\n",
       "      <td>461000390</td>\n",
       "      <td>20140624T000000</td>\n",
       "      <td>687500.0</td>\n",
       "      <td>4</td>\n",
       "      <td>1.75</td>\n",
       "      <td>2330</td>\n",
       "      <td>5000</td>\n",
       "      <td>1.5</td>\n",
       "      <td>0</td>\n",
       "      <td>0</td>\n",
       "      <td>...</td>\n",
       "      <td>7</td>\n",
       "      <td>1510</td>\n",
       "      <td>820</td>\n",
       "      <td>1929</td>\n",
       "      <td>0</td>\n",
       "      <td>98117</td>\n",
       "      <td>47.6823</td>\n",
       "      <td>-122.368</td>\n",
       "      <td>1460</td>\n",
       "      <td>5000</td>\n",
       "    </tr>\n",
       "    <tr>\n",
       "      <th>4</th>\n",
       "      <td>7895500070</td>\n",
       "      <td>20150213T000000</td>\n",
       "      <td>240000.0</td>\n",
       "      <td>4</td>\n",
       "      <td>1.00</td>\n",
       "      <td>1220</td>\n",
       "      <td>8075</td>\n",
       "      <td>1.0</td>\n",
       "      <td>0</td>\n",
       "      <td>0</td>\n",
       "      <td>...</td>\n",
       "      <td>7</td>\n",
       "      <td>890</td>\n",
       "      <td>330</td>\n",
       "      <td>1969</td>\n",
       "      <td>0</td>\n",
       "      <td>98001</td>\n",
       "      <td>47.3341</td>\n",
       "      <td>-122.282</td>\n",
       "      <td>1290</td>\n",
       "      <td>7800</td>\n",
       "    </tr>\n",
       "  </tbody>\n",
       "</table>\n",
       "<p>5 rows × 21 columns</p>\n",
       "</div>"
      ],
      "text/plain": [
       "           id             date     price  bedrooms  bathrooms  sqft_living  \\\n",
       "0  3793500160  20150312T000000  323000.0         3       2.50         1890   \n",
       "1  1175000570  20150312T000000  530000.0         5       2.00         1810   \n",
       "2    16000397  20141205T000000  189000.0         2       1.00         1200   \n",
       "3   461000390  20140624T000000  687500.0         4       1.75         2330   \n",
       "4  7895500070  20150213T000000  240000.0         4       1.00         1220   \n",
       "\n",
       "   sqft_lot  floors  waterfront  view  ...  grade  sqft_above  sqft_basement  \\\n",
       "0      6560     2.0           0     0  ...      7        1890              0   \n",
       "1      4850     1.5           0     0  ...      7        1810              0   \n",
       "2      9850     1.0           0     0  ...      7        1200              0   \n",
       "3      5000     1.5           0     0  ...      7        1510            820   \n",
       "4      8075     1.0           0     0  ...      7         890            330   \n",
       "\n",
       "   yr_built  yr_renovated  zipcode      lat     long  sqft_living15  \\\n",
       "0      2003             0    98038  47.3684 -122.031           2390   \n",
       "1      1900             0    98107  47.6700 -122.394           1360   \n",
       "2      1921             0    98002  47.3089 -122.210           1060   \n",
       "3      1929             0    98117  47.6823 -122.368           1460   \n",
       "4      1969             0    98001  47.3341 -122.282           1290   \n",
       "\n",
       "   sqft_lot15  \n",
       "0        7570  \n",
       "1        4850  \n",
       "2        5095  \n",
       "3        5000  \n",
       "4        7800  \n",
       "\n",
       "[5 rows x 21 columns]"
      ]
     },
     "execution_count": 74,
     "metadata": {},
     "output_type": "execute_result"
    }
   ],
   "source": [
    "test_data.head()"
   ]
  },
  {
   "cell_type": "markdown",
   "metadata": {},
   "source": [
    "### FEATURE ENGINEERING ON TEST DATA"
   ]
  },
  {
   "cell_type": "code",
   "execution_count": 75,
   "metadata": {},
   "outputs": [],
   "source": [
    "test_data['logged sqft_living']=np.log(test_data.sqft_living)\n",
    "test_data['logged price']=np.log(test_data.price)\n",
    "test_data['year of selling'] = pd.DatetimeIndex(test_data['date']).year\n",
    "test_data['month of selling']=pd.DatetimeIndex(test_data['date']).month\n",
    "test_data['age']=test_data['year of selling'] - test_data.yr_built"
   ]
  },
  {
   "cell_type": "code",
   "execution_count": 76,
   "metadata": {},
   "outputs": [
    {
     "data": {
      "text/html": [
       "<div>\n",
       "<style scoped>\n",
       "    .dataframe tbody tr th:only-of-type {\n",
       "        vertical-align: middle;\n",
       "    }\n",
       "\n",
       "    .dataframe tbody tr th {\n",
       "        vertical-align: top;\n",
       "    }\n",
       "\n",
       "    .dataframe thead th {\n",
       "        text-align: right;\n",
       "    }\n",
       "</style>\n",
       "<table border=\"1\" class=\"dataframe\">\n",
       "  <thead>\n",
       "    <tr style=\"text-align: right;\">\n",
       "      <th></th>\n",
       "      <th>id</th>\n",
       "      <th>date</th>\n",
       "      <th>price</th>\n",
       "      <th>bedrooms</th>\n",
       "      <th>bathrooms</th>\n",
       "      <th>sqft_living</th>\n",
       "      <th>sqft_lot</th>\n",
       "      <th>floors</th>\n",
       "      <th>waterfront</th>\n",
       "      <th>view</th>\n",
       "      <th>...</th>\n",
       "      <th>zipcode</th>\n",
       "      <th>lat</th>\n",
       "      <th>long</th>\n",
       "      <th>sqft_living15</th>\n",
       "      <th>sqft_lot15</th>\n",
       "      <th>logged sqft_living</th>\n",
       "      <th>logged price</th>\n",
       "      <th>year of selling</th>\n",
       "      <th>month of selling</th>\n",
       "      <th>age</th>\n",
       "    </tr>\n",
       "  </thead>\n",
       "  <tbody>\n",
       "    <tr>\n",
       "      <th>0</th>\n",
       "      <td>3793500160</td>\n",
       "      <td>20150312T000000</td>\n",
       "      <td>323000.0</td>\n",
       "      <td>3</td>\n",
       "      <td>2.50</td>\n",
       "      <td>1890</td>\n",
       "      <td>6560</td>\n",
       "      <td>2.0</td>\n",
       "      <td>0</td>\n",
       "      <td>0</td>\n",
       "      <td>...</td>\n",
       "      <td>98038</td>\n",
       "      <td>47.3684</td>\n",
       "      <td>-122.031</td>\n",
       "      <td>2390</td>\n",
       "      <td>7570</td>\n",
       "      <td>7.544332</td>\n",
       "      <td>12.685408</td>\n",
       "      <td>2015</td>\n",
       "      <td>3</td>\n",
       "      <td>12</td>\n",
       "    </tr>\n",
       "    <tr>\n",
       "      <th>1</th>\n",
       "      <td>1175000570</td>\n",
       "      <td>20150312T000000</td>\n",
       "      <td>530000.0</td>\n",
       "      <td>5</td>\n",
       "      <td>2.00</td>\n",
       "      <td>1810</td>\n",
       "      <td>4850</td>\n",
       "      <td>1.5</td>\n",
       "      <td>0</td>\n",
       "      <td>0</td>\n",
       "      <td>...</td>\n",
       "      <td>98107</td>\n",
       "      <td>47.6700</td>\n",
       "      <td>-122.394</td>\n",
       "      <td>1360</td>\n",
       "      <td>4850</td>\n",
       "      <td>7.501082</td>\n",
       "      <td>13.180632</td>\n",
       "      <td>2015</td>\n",
       "      <td>3</td>\n",
       "      <td>115</td>\n",
       "    </tr>\n",
       "    <tr>\n",
       "      <th>2</th>\n",
       "      <td>16000397</td>\n",
       "      <td>20141205T000000</td>\n",
       "      <td>189000.0</td>\n",
       "      <td>2</td>\n",
       "      <td>1.00</td>\n",
       "      <td>1200</td>\n",
       "      <td>9850</td>\n",
       "      <td>1.0</td>\n",
       "      <td>0</td>\n",
       "      <td>0</td>\n",
       "      <td>...</td>\n",
       "      <td>98002</td>\n",
       "      <td>47.3089</td>\n",
       "      <td>-122.210</td>\n",
       "      <td>1060</td>\n",
       "      <td>5095</td>\n",
       "      <td>7.090077</td>\n",
       "      <td>12.149502</td>\n",
       "      <td>2014</td>\n",
       "      <td>12</td>\n",
       "      <td>93</td>\n",
       "    </tr>\n",
       "    <tr>\n",
       "      <th>3</th>\n",
       "      <td>461000390</td>\n",
       "      <td>20140624T000000</td>\n",
       "      <td>687500.0</td>\n",
       "      <td>4</td>\n",
       "      <td>1.75</td>\n",
       "      <td>2330</td>\n",
       "      <td>5000</td>\n",
       "      <td>1.5</td>\n",
       "      <td>0</td>\n",
       "      <td>0</td>\n",
       "      <td>...</td>\n",
       "      <td>98117</td>\n",
       "      <td>47.6823</td>\n",
       "      <td>-122.368</td>\n",
       "      <td>1460</td>\n",
       "      <td>5000</td>\n",
       "      <td>7.753624</td>\n",
       "      <td>13.440817</td>\n",
       "      <td>2014</td>\n",
       "      <td>6</td>\n",
       "      <td>85</td>\n",
       "    </tr>\n",
       "    <tr>\n",
       "      <th>4</th>\n",
       "      <td>7895500070</td>\n",
       "      <td>20150213T000000</td>\n",
       "      <td>240000.0</td>\n",
       "      <td>4</td>\n",
       "      <td>1.00</td>\n",
       "      <td>1220</td>\n",
       "      <td>8075</td>\n",
       "      <td>1.0</td>\n",
       "      <td>0</td>\n",
       "      <td>0</td>\n",
       "      <td>...</td>\n",
       "      <td>98001</td>\n",
       "      <td>47.3341</td>\n",
       "      <td>-122.282</td>\n",
       "      <td>1290</td>\n",
       "      <td>7800</td>\n",
       "      <td>7.106606</td>\n",
       "      <td>12.388394</td>\n",
       "      <td>2015</td>\n",
       "      <td>2</td>\n",
       "      <td>46</td>\n",
       "    </tr>\n",
       "  </tbody>\n",
       "</table>\n",
       "<p>5 rows × 26 columns</p>\n",
       "</div>"
      ],
      "text/plain": [
       "           id             date     price  bedrooms  bathrooms  sqft_living  \\\n",
       "0  3793500160  20150312T000000  323000.0         3       2.50         1890   \n",
       "1  1175000570  20150312T000000  530000.0         5       2.00         1810   \n",
       "2    16000397  20141205T000000  189000.0         2       1.00         1200   \n",
       "3   461000390  20140624T000000  687500.0         4       1.75         2330   \n",
       "4  7895500070  20150213T000000  240000.0         4       1.00         1220   \n",
       "\n",
       "   sqft_lot  floors  waterfront  view  ...  zipcode      lat     long  \\\n",
       "0      6560     2.0           0     0  ...    98038  47.3684 -122.031   \n",
       "1      4850     1.5           0     0  ...    98107  47.6700 -122.394   \n",
       "2      9850     1.0           0     0  ...    98002  47.3089 -122.210   \n",
       "3      5000     1.5           0     0  ...    98117  47.6823 -122.368   \n",
       "4      8075     1.0           0     0  ...    98001  47.3341 -122.282   \n",
       "\n",
       "   sqft_living15  sqft_lot15  logged sqft_living  logged price  \\\n",
       "0           2390        7570            7.544332     12.685408   \n",
       "1           1360        4850            7.501082     13.180632   \n",
       "2           1060        5095            7.090077     12.149502   \n",
       "3           1460        5000            7.753624     13.440817   \n",
       "4           1290        7800            7.106606     12.388394   \n",
       "\n",
       "   year of selling  month of selling  age  \n",
       "0             2015                 3   12  \n",
       "1             2015                 3  115  \n",
       "2             2014                12   93  \n",
       "3             2014                 6   85  \n",
       "4             2015                 2   46  \n",
       "\n",
       "[5 rows x 26 columns]"
      ]
     },
     "execution_count": 76,
     "metadata": {},
     "output_type": "execute_result"
    }
   ],
   "source": [
    "test_data.head()"
   ]
  },
  {
   "cell_type": "markdown",
   "metadata": {},
   "source": [
    "### 1. Testing with Decision tree model-7 :-"
   ]
  },
  {
   "cell_type": "code",
   "execution_count": 93,
   "metadata": {},
   "outputs": [
    {
     "data": {
      "text/plain": [
       "array([12.60882506, 13.17693607, 12.30613599, ..., 13.04745807,\n",
       "       12.82600335, 13.14513843])"
      ]
     },
     "execution_count": 93,
     "metadata": {},
     "output_type": "execute_result"
    }
   ],
   "source": [
    "X_train=train_data[['bathrooms','sqft_living','view','condition','grade','yr_built','lat','sqft_living15','floors','waterfront','year of selling']]\n",
    "y_train=train_data['logged price']\n",
    "X_test=test_data[['bathrooms','sqft_living','view','condition','grade','yr_built','lat','sqft_living15','floors','waterfront','year of selling']]\n",
    "y_test=test_data['price']\n",
    "model7.fit(X_train,y_train)\n",
    "pre=model7.predict(X_test)\n",
    "pre"
   ]
  },
  {
   "cell_type": "code",
   "execution_count": 94,
   "metadata": {},
   "outputs": [
    {
     "data": {
      "text/plain": [
       "array([299187.29465944, 528044.62436628, 221048.18598622, ...,\n",
       "       463915.66911032, 371759.84790501, 511518.19090143])"
      ]
     },
     "execution_count": 94,
     "metadata": {},
     "output_type": "execute_result"
    }
   ],
   "source": [
    "pre=(np.exp(pre))  # back transformation of logged data\n",
    "pre"
   ]
  },
  {
   "cell_type": "code",
   "execution_count": 95,
   "metadata": {},
   "outputs": [
    {
     "data": {
      "text/plain": [
       "112389.78496158193"
      ]
     },
     "execution_count": 95,
     "metadata": {},
     "output_type": "execute_result"
    }
   ],
   "source": [
    "error=y_test-pre\n",
    "mae=np.sum(np.abs(error))\n",
    "mae=mae/len(y_test)\n",
    "mae"
   ]
  },
  {
   "cell_type": "markdown",
   "metadata": {},
   "source": [
    "### Testing with Decision tree model-6 :-"
   ]
  },
  {
   "cell_type": "code",
   "execution_count": 84,
   "metadata": {},
   "outputs": [
    {
     "data": {
      "text/plain": [
       "array([12.54132777, 13.17693607, 12.30613599, ..., 13.04745807,\n",
       "       12.82600335, 13.14513843])"
      ]
     },
     "execution_count": 84,
     "metadata": {},
     "output_type": "execute_result"
    }
   ],
   "source": [
    "X_train=train_data[['logged sqft_living','bedrooms', 'bathrooms', 'grade', 'view', 'waterfront', 'lat', 'yr_built','age']]\n",
    "y_train=train_data['logged price']\n",
    "X_test=test_data[['logged sqft_living','bedrooms', 'bathrooms', 'grade', 'view', 'waterfront', 'lat', 'yr_built','age']]\n",
    "y_test=test_data['price']\n",
    "model6.fit(X_train,y_train)\n",
    "pre=model6.predict(X_test)\n",
    "pre"
   ]
  },
  {
   "cell_type": "code",
   "execution_count": 85,
   "metadata": {},
   "outputs": [
    {
     "data": {
      "text/plain": [
       "array([279659.41488963, 528044.62436629, 221048.18598622, ...,\n",
       "       463915.66911033, 371759.84790501, 511518.19090143])"
      ]
     },
     "execution_count": 85,
     "metadata": {},
     "output_type": "execute_result"
    }
   ],
   "source": [
    "pre=(np.exp(pre))  # back transformation of logged data\n",
    "pre"
   ]
  },
  {
   "cell_type": "code",
   "execution_count": 86,
   "metadata": {},
   "outputs": [
    {
     "data": {
      "text/plain": [
       "112450.30974015199"
      ]
     },
     "execution_count": 86,
     "metadata": {},
     "output_type": "execute_result"
    }
   ],
   "source": [
    "error=y_test-pre\n",
    "mae=np.sum(np.abs(error))\n",
    "mae=mae/len(y_test)\n",
    "mae"
   ]
  },
  {
   "cell_type": "markdown",
   "metadata": {},
   "source": [
    "### 3. Testing with Decision tree model-5 :-"
   ]
  },
  {
   "cell_type": "code",
   "execution_count": 87,
   "metadata": {},
   "outputs": [
    {
     "data": {
      "text/plain": [
       "array([12.54132777, 13.17693607, 12.30613599, ..., 13.04745807,\n",
       "       12.82600335, 13.14513843])"
      ]
     },
     "execution_count": 87,
     "metadata": {},
     "output_type": "execute_result"
    }
   ],
   "source": [
    "X_train=train_data[['logged sqft_living','bedrooms', 'bathrooms', 'grade', 'view', 'waterfront', 'lat', 'yr_built','year of selling']]\n",
    "y_train=train_data['logged price']\n",
    "X_test=test_data[['logged sqft_living','bedrooms', 'bathrooms', 'grade', 'view', 'waterfront', 'lat', 'yr_built','year of selling']]\n",
    "y_test=test_data['price']\n",
    "model5.fit(X_train,y_train)\n",
    "pre=model5.predict(X_test)\n",
    "pre"
   ]
  },
  {
   "cell_type": "code",
   "execution_count": 88,
   "metadata": {},
   "outputs": [
    {
     "data": {
      "text/plain": [
       "array([279659.41488963, 528044.62436629, 221048.18598622, ...,\n",
       "       463915.66911033, 371759.84790501, 511518.19090143])"
      ]
     },
     "execution_count": 88,
     "metadata": {},
     "output_type": "execute_result"
    }
   ],
   "source": [
    "pre=(np.exp(pre))  # back transformation of logged data\n",
    "pre"
   ]
  },
  {
   "cell_type": "code",
   "execution_count": 89,
   "metadata": {},
   "outputs": [
    {
     "data": {
      "text/plain": [
       "112510.66147499769"
      ]
     },
     "execution_count": 89,
     "metadata": {},
     "output_type": "execute_result"
    }
   ],
   "source": [
    "error=y_test-pre\n",
    "mae=np.sum(np.abs(error))\n",
    "mae=mae/len(y_test)\n",
    "mae"
   ]
  },
  {
   "cell_type": "markdown",
   "metadata": {},
   "source": [
    "### After evaluating the models on the basis of mean absolute error. We found out the best performing model is the Decision Tree Model-7."
   ]
  },
  {
   "cell_type": "code",
   "execution_count": null,
   "metadata": {},
   "outputs": [],
   "source": []
  }
 ],
 "metadata": {
  "kernelspec": {
   "display_name": "Python 3",
   "language": "python",
   "name": "python3"
  },
  "language_info": {
   "codemirror_mode": {
    "name": "ipython",
    "version": 3
   },
   "file_extension": ".py",
   "mimetype": "text/x-python",
   "name": "python",
   "nbconvert_exporter": "python",
   "pygments_lexer": "ipython3",
   "version": "3.8.5"
  }
 },
 "nbformat": 4,
 "nbformat_minor": 4
}
